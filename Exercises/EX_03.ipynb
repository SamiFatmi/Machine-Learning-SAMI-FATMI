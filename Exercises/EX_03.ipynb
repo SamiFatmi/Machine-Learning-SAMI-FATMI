{
 "cells": [
  {
   "cell_type": "markdown",
   "source": [
    "# 0. Tips data EDA (*)\n",
    "\n",
    "In the whole exercise, we will work with the \"tips\" dataset from seaborn dataset. Start by loading dataset \"tips\" from the load_dataset method in seaborn module. The goal will be to use polynomial linear regression to predict tips.\n",
    "\n",
    "a) Start by doing some initial EDA such as info(), describe().\n",
    "\n"
   ],
   "metadata": {}
  },
  {
   "cell_type": "code",
   "execution_count": 60,
   "source": [
    "from seaborn import load_dataset\n",
    "\n",
    "tips_df = load_dataset(\"tips\")\n",
    "tips_df.head()"
   ],
   "outputs": [
    {
     "output_type": "execute_result",
     "data": {
      "text/html": [
       "<div>\n",
       "<style scoped>\n",
       "    .dataframe tbody tr th:only-of-type {\n",
       "        vertical-align: middle;\n",
       "    }\n",
       "\n",
       "    .dataframe tbody tr th {\n",
       "        vertical-align: top;\n",
       "    }\n",
       "\n",
       "    .dataframe thead th {\n",
       "        text-align: right;\n",
       "    }\n",
       "</style>\n",
       "<table border=\"1\" class=\"dataframe\">\n",
       "  <thead>\n",
       "    <tr style=\"text-align: right;\">\n",
       "      <th></th>\n",
       "      <th>total_bill</th>\n",
       "      <th>tip</th>\n",
       "      <th>sex</th>\n",
       "      <th>smoker</th>\n",
       "      <th>day</th>\n",
       "      <th>time</th>\n",
       "      <th>size</th>\n",
       "    </tr>\n",
       "  </thead>\n",
       "  <tbody>\n",
       "    <tr>\n",
       "      <th>0</th>\n",
       "      <td>16.99</td>\n",
       "      <td>1.01</td>\n",
       "      <td>Female</td>\n",
       "      <td>No</td>\n",
       "      <td>Sun</td>\n",
       "      <td>Dinner</td>\n",
       "      <td>2</td>\n",
       "    </tr>\n",
       "    <tr>\n",
       "      <th>1</th>\n",
       "      <td>10.34</td>\n",
       "      <td>1.66</td>\n",
       "      <td>Male</td>\n",
       "      <td>No</td>\n",
       "      <td>Sun</td>\n",
       "      <td>Dinner</td>\n",
       "      <td>3</td>\n",
       "    </tr>\n",
       "    <tr>\n",
       "      <th>2</th>\n",
       "      <td>21.01</td>\n",
       "      <td>3.50</td>\n",
       "      <td>Male</td>\n",
       "      <td>No</td>\n",
       "      <td>Sun</td>\n",
       "      <td>Dinner</td>\n",
       "      <td>3</td>\n",
       "    </tr>\n",
       "    <tr>\n",
       "      <th>3</th>\n",
       "      <td>23.68</td>\n",
       "      <td>3.31</td>\n",
       "      <td>Male</td>\n",
       "      <td>No</td>\n",
       "      <td>Sun</td>\n",
       "      <td>Dinner</td>\n",
       "      <td>2</td>\n",
       "    </tr>\n",
       "    <tr>\n",
       "      <th>4</th>\n",
       "      <td>24.59</td>\n",
       "      <td>3.61</td>\n",
       "      <td>Female</td>\n",
       "      <td>No</td>\n",
       "      <td>Sun</td>\n",
       "      <td>Dinner</td>\n",
       "      <td>4</td>\n",
       "    </tr>\n",
       "  </tbody>\n",
       "</table>\n",
       "</div>"
      ],
      "text/plain": [
       "   total_bill   tip     sex smoker  day    time  size\n",
       "0       16.99  1.01  Female     No  Sun  Dinner     2\n",
       "1       10.34  1.66    Male     No  Sun  Dinner     3\n",
       "2       21.01  3.50    Male     No  Sun  Dinner     3\n",
       "3       23.68  3.31    Male     No  Sun  Dinner     2\n",
       "4       24.59  3.61  Female     No  Sun  Dinner     4"
      ]
     },
     "metadata": {},
     "execution_count": 60
    }
   ],
   "metadata": {}
  },
  {
   "cell_type": "code",
   "execution_count": 61,
   "source": [
    "tips_df.info()"
   ],
   "outputs": [
    {
     "output_type": "stream",
     "name": "stdout",
     "text": [
      "<class 'pandas.core.frame.DataFrame'>\n",
      "RangeIndex: 244 entries, 0 to 243\n",
      "Data columns (total 7 columns):\n",
      " #   Column      Non-Null Count  Dtype   \n",
      "---  ------      --------------  -----   \n",
      " 0   total_bill  244 non-null    float64 \n",
      " 1   tip         244 non-null    float64 \n",
      " 2   sex         244 non-null    category\n",
      " 3   smoker      244 non-null    category\n",
      " 4   day         244 non-null    category\n",
      " 5   time        244 non-null    category\n",
      " 6   size        244 non-null    int64   \n",
      "dtypes: category(4), float64(2), int64(1)\n",
      "memory usage: 7.4 KB\n"
     ]
    }
   ],
   "metadata": {}
  },
  {
   "cell_type": "markdown",
   "source": [
    "  b) Use describe only on those columns that are relevant to get statistical information from. Plot the descriptive statistics for each numerical column, with a adequate plot type (e.g. barplot).\n",
    "\n"
   ],
   "metadata": {}
  },
  {
   "cell_type": "code",
   "execution_count": 62,
   "source": [
    "tips_df.describe().T"
   ],
   "outputs": [
    {
     "output_type": "execute_result",
     "data": {
      "text/html": [
       "<div>\n",
       "<style scoped>\n",
       "    .dataframe tbody tr th:only-of-type {\n",
       "        vertical-align: middle;\n",
       "    }\n",
       "\n",
       "    .dataframe tbody tr th {\n",
       "        vertical-align: top;\n",
       "    }\n",
       "\n",
       "    .dataframe thead th {\n",
       "        text-align: right;\n",
       "    }\n",
       "</style>\n",
       "<table border=\"1\" class=\"dataframe\">\n",
       "  <thead>\n",
       "    <tr style=\"text-align: right;\">\n",
       "      <th></th>\n",
       "      <th>count</th>\n",
       "      <th>mean</th>\n",
       "      <th>std</th>\n",
       "      <th>min</th>\n",
       "      <th>25%</th>\n",
       "      <th>50%</th>\n",
       "      <th>75%</th>\n",
       "      <th>max</th>\n",
       "    </tr>\n",
       "  </thead>\n",
       "  <tbody>\n",
       "    <tr>\n",
       "      <th>total_bill</th>\n",
       "      <td>244.0</td>\n",
       "      <td>19.785943</td>\n",
       "      <td>8.902412</td>\n",
       "      <td>3.07</td>\n",
       "      <td>13.3475</td>\n",
       "      <td>17.795</td>\n",
       "      <td>24.1275</td>\n",
       "      <td>50.81</td>\n",
       "    </tr>\n",
       "    <tr>\n",
       "      <th>tip</th>\n",
       "      <td>244.0</td>\n",
       "      <td>2.998279</td>\n",
       "      <td>1.383638</td>\n",
       "      <td>1.00</td>\n",
       "      <td>2.0000</td>\n",
       "      <td>2.900</td>\n",
       "      <td>3.5625</td>\n",
       "      <td>10.00</td>\n",
       "    </tr>\n",
       "    <tr>\n",
       "      <th>size</th>\n",
       "      <td>244.0</td>\n",
       "      <td>2.569672</td>\n",
       "      <td>0.951100</td>\n",
       "      <td>1.00</td>\n",
       "      <td>2.0000</td>\n",
       "      <td>2.000</td>\n",
       "      <td>3.0000</td>\n",
       "      <td>6.00</td>\n",
       "    </tr>\n",
       "  </tbody>\n",
       "</table>\n",
       "</div>"
      ],
      "text/plain": [
       "            count       mean       std   min      25%     50%      75%    max\n",
       "total_bill  244.0  19.785943  8.902412  3.07  13.3475  17.795  24.1275  50.81\n",
       "tip         244.0   2.998279  1.383638  1.00   2.0000   2.900   3.5625  10.00\n",
       "size        244.0   2.569672  0.951100  1.00   2.0000   2.000   3.0000   6.00"
      ]
     },
     "metadata": {},
     "execution_count": 62
    }
   ],
   "metadata": {}
  },
  {
   "cell_type": "code",
   "execution_count": 63,
   "source": [
    "tips_df.describe().T.drop([\"count\",\"25%\",\"50%\",\"75%\"],axis=\"columns\").plot(kind=\"bar\")"
   ],
   "outputs": [
    {
     "output_type": "execute_result",
     "data": {
      "text/plain": [
       "<AxesSubplot:>"
      ]
     },
     "metadata": {},
     "execution_count": 63
    },
    {
     "output_type": "display_data",
     "data": {
      "image/png": "[encoded data removed]",
      "text/plain": [
       "<Figure size 432x288 with 1 Axes>"
      ]
     },
     "metadata": {
      "needs_background": "light"
     }
    }
   ],
   "metadata": {}
  },
  {
   "cell_type": "markdown",
   "source": [
    "  c) Based on the initial EDA, make some more plots on things you think could be worthwhile to investigate.\n",
    "\n"
   ],
   "metadata": {}
  },
  {
   "cell_type": "code",
   "execution_count": 64,
   "source": [
    "tips_daily_df = tips_df.groupby(\"day\").sum()\n",
    "\n",
    "tips_daily_df.drop(\"size\",axis=\"columns\").plot(kind=\"line\")"
   ],
   "outputs": [
    {
     "output_type": "execute_result",
     "data": {
      "text/plain": [
       "<AxesSubplot:xlabel='day'>"
      ]
     },
     "metadata": {},
     "execution_count": 64
    },
    {
     "output_type": "display_data",
     "data": {
      "image/png": "[encoded data removed]",
      "text/plain": [
       "<Figure size 432x288 with 1 Axes>"
      ]
     },
     "metadata": {
      "needs_background": "light"
     }
    }
   ],
   "metadata": {}
  },
  {
   "cell_type": "code",
   "execution_count": 65,
   "source": [
    "tips_by_meal = tips_df.groupby(\"time\").sum()\n",
    "\n",
    "tips_by_meal.plot(kind=\"bar\")"
   ],
   "outputs": [
    {
     "output_type": "execute_result",
     "data": {
      "text/plain": [
       "<AxesSubplot:xlabel='time'>"
      ]
     },
     "metadata": {},
     "execution_count": 65
    },
    {
     "output_type": "display_data",
     "data": {
      "image/png": "[encoded data removed]",
      "text/plain": [
       "<Figure size 432x288 with 1 Axes>"
      ]
     },
     "metadata": {
      "needs_background": "light"
     }
    }
   ],
   "metadata": {}
  },
  {
   "cell_type": "code",
   "execution_count": 66,
   "source": [
    "tips_percentage_by_day = tips_df.groupby(\"day\").sum().drop(\"size\",axis=\"columns\")\n",
    "tips_percentage_by_day[\"ratio\"]=tips_percentage_by_day[\"tip\"]/tips_percentage_by_day[\"total_bill\"]\n",
    "\n",
    "tips_percentage_by_day.plot(kind=\"bar\",y=\"ratio\")"
   ],
   "outputs": [
    {
     "output_type": "execute_result",
     "data": {
      "text/plain": [
       "<AxesSubplot:xlabel='day'>"
      ]
     },
     "metadata": {},
     "execution_count": 66
    },
    {
     "output_type": "display_data",
     "data": {
      "image/png": "[encoded data removed]",
      "text/plain": [
       "<Figure size 432x288 with 1 Axes>"
      ]
     },
     "metadata": {
      "needs_background": "light"
     }
    }
   ],
   "metadata": {}
  },
  {
   "cell_type": "code",
   "execution_count": 67,
   "source": [
    "tips_per_person_ratio_per_meal = tips_df.groupby(\"time\").sum().drop(\"total_bill\", axis=\"columns\")\n",
    "\n",
    "tips_per_person_ratio_per_meal[\"ratio\"] = tips_per_person_ratio_per_meal[\"tip\"]/tips_per_person_ratio_per_meal[\"size\"]\n",
    "tips_per_person_ratio_per_meal.plot(kind=\"bar\",y=\"ratio\")"
   ],
   "outputs": [
    {
     "output_type": "execute_result",
     "data": {
      "text/plain": [
       "<AxesSubplot:xlabel='time'>"
      ]
     },
     "metadata": {},
     "execution_count": 67
    },
    {
     "output_type": "display_data",
     "data": {
      "image/png": "[encoded data removed]",
      "text/plain": [
       "<Figure size 432x288 with 1 Axes>"
      ]
     },
     "metadata": {
      "needs_background": "light"
     }
    }
   ],
   "metadata": {}
  },
  {
   "cell_type": "markdown",
   "source": [
    "  d) Try discuss your findings with yourself/colleague and draw some conclusions if possible. Note that in reality, it is important to be able to communicate your findings so that other people in your team/customers/stakeholders etc. get an understanding of the data and realizes the importance of your role as a data scientist/analyst."
   ],
   "metadata": {}
  },
  {
   "cell_type": "markdown",
   "source": [
    "# 1. Train|test split (*)\n",
    "\n",
    "Split the data into training part and testing part, using sklearn's train_test_split with test size of 0.3 and random_state 42."
   ],
   "metadata": {}
  },
  {
   "cell_type": "code",
   "execution_count": 68,
   "source": [
    "from sklearn.model_selection import train_test_split\n",
    "\n",
    "\n",
    "y_df = tips_df[\"tip\"]\n",
    "X_df = tips_df.drop(\"tip\",axis=\"columns\")\n",
    "\n",
    "X_train,X_test,y_train,y_test = train_test_split(X_df,y_df,test_size=0.3,random_state=42)\n",
    "\n",
    "X_train.shape,X_test.shape,y_train.shape,y_test.shape"
   ],
   "outputs": [
    {
     "output_type": "execute_result",
     "data": {
      "text/plain": [
       "((170, 6), (74, 6), (170,), (74,))"
      ]
     },
     "metadata": {},
     "execution_count": 68
    }
   ],
   "metadata": {}
  },
  {
   "cell_type": "markdown",
   "source": [
    "# 2. Feature standardization (*)\n",
    "\n",
    "We need to normalize the data and in this case will be using feature standardization. Implement this yourself following this formula:\n",
    "$$ X'_{train} = \\frac{X_{train} - \\mu _{train}}{\\sigma _{train}} $$\n",
    "$$ X'_{test} = \\frac{X_{test} - \\mu _{test}}{\\sigma _{test}} $$\n",
    ", where 'denotes scaled, $\\mu _{train}$ is the mean of the training data,$ \\sigma _{train} $ is the standard deviation of the training data. Note that it is very important that the mean and standard deviation is computed from the training data and not from testing data to avoid data leakage. Control the standard deviation and mean of \n",
    " and \n",
    ". Is the results as you expect, why, why not?"
   ],
   "metadata": {}
  },
  {
   "cell_type": "code",
   "execution_count": 69,
   "source": [
    "X_train = X_train[[\"total_bill\",\"size\"]]\n",
    "X_test = X_test[[\"total_bill\",\"size\"]]\n",
    "\n",
    "scaled_X_train = (X_train - X_train.mean())/X_train.std()\n",
    "scaled_X_test = (X_test - X_test.mean())/X_test.std()"
   ],
   "outputs": [],
   "metadata": {}
  },
  {
   "cell_type": "markdown",
   "source": [
    "# 3. Polynomial features (*)\n",
    "\n",
    "We want to investigate Polynomialfeatures from scikit-klearn in this task. Start by instantiating an object of type PolynomialFeatures with degree 2. Now do the following:\n",
    "- use the method fit on $X'_{train}$\n",
    "- transform $X'_{train}$\n",
    "- transform $X'_{test}$\n",
    "\n",
    "Compare this transformed $X'_{test}$ with $X''_{test}$ where  $X''_{test}$ comes from fitting the polynomial features to  $X'_{test}$ and transforming  $X'_{test}$ . You can check directly by using == and then sum it up. If the value is same as the length, then you know that they are the same, as a boolean True evaluates to 1."
   ],
   "metadata": {}
  },
  {
   "cell_type": "code",
   "execution_count": 70,
   "source": [
    "from sklearn.preprocessing import PolynomialFeatures \n",
    "from sklearn.linear_model import  LinearRegression\n",
    "import numpy as np\n",
    "\n",
    "poly = PolynomialFeatures(degree=2, include_bias = False)\n",
    "\n",
    "poly_X_train = poly.fit(scaled_X_train)\n",
    "poly_transformed_X_train = poly.transform(scaled_X_train)\n",
    "poly_transformed_X_test = poly.transform(scaled_X_test)"
   ],
   "outputs": [],
   "metadata": {}
  },
  {
   "cell_type": "code",
   "execution_count": 71,
   "source": [
    "poly_X_test = poly.fit(poly_transformed_X_test)\n",
    "\n",
    "poly_transformed_X_test_2 = poly.transform(poly_transformed_X_test)"
   ],
   "outputs": [],
   "metadata": {}
  },
  {
   "cell_type": "code",
   "execution_count": 72,
   "source": [
    "print(poly_transformed_X_test == poly_transformed_X_test_2)"
   ],
   "outputs": [
    {
     "output_type": "stream",
     "name": "stdout",
     "text": [
      "False\n"
     ]
    },
    {
     "output_type": "stream",
     "name": "stderr",
     "text": [
      "/var/folders/q8/kg4v5mr16fv47tpsjyg28zlc0000gn/T/ipykernel_86438/2661267042.py:1: DeprecationWarning: elementwise comparison failed; this will raise an error in the future.\n",
      "  print(poly_transformed_X_test == poly_transformed_X_test_2)\n"
     ]
    }
   ],
   "metadata": {}
  },
  {
   "cell_type": "markdown",
   "source": [
    "# 4. Polynomial regression (*)\n",
    "\n",
    "We will now investigate the training loss and testing loss for different degrees of polynomial. Loop through degrees 1 to 4 (inclusive) and: \n",
    "- instantiate an object of PolynomialFeatures with that degree\n",
    "- fit and transform $X'_{train}$ and $X'_{test}$ to create polynomial features\n",
    "- perform linear regression on these polynomial features (polynomial regression)\n",
    "- predict on both the training and testing data to record RMSE for training and testing for each iteration of the loop\n",
    "\n",
    "Now plot the results in the same figure. Do you notice anything special?"
   ],
   "metadata": {}
  },
  {
   "cell_type": "code",
   "execution_count": 77,
   "source": [
    "from sklearn.metrics import mean_absolute_error, mean_squared_error\n",
    "import pandas as pd\n",
    "from math import sqrt"
   ],
   "outputs": [],
   "metadata": {}
  },
  {
   "cell_type": "code",
   "execution_count": 79,
   "source": [
    "rmse_df = pd.DataFrame(columns=[\"Degree\",\"Train_RMSE\",\"Test_RMSE\"])\n",
    "\n",
    "for degree in range(1,5):\n",
    "    #instantiate an object\n",
    "    poly = PolynomialFeatures(degree=degree,include_bias=False)\n",
    "\n",
    "    # fit and tranform \n",
    "    poly_X_train = poly.fit(scaled_X_train)\n",
    "    poly_X_test = poly.fit(scaled_X_test)\n",
    "    poly_transformed_X_train = poly.transform(scaled_X_train)\n",
    "    poly_transformed_X_test = poly.transform(scaled_X_test)\n",
    "\n",
    "    #polynomial regressoin \n",
    "    model = LinearRegression()\n",
    "    model.fit(poly_transformed_X_train,y_train)\n",
    "\n",
    "    #predict on train and test data\n",
    "    y_train_pred = model.predict(poly_transformed_X_train)\n",
    "    y_test_pred = model.predict(poly_transformed_X_test)\n",
    "\n",
    "    #RMSE \n",
    "    train_RMSE = sqrt(mean_squared_error(y_train,y_train_pred))\n",
    "    test_RMSE = sqrt(mean_squared_error(y_test,y_test_pred))\n",
    "\n",
    "    #adding to dataframe \n",
    "    rmse_df = rmse_df.append({\"Degree\":degree,\"Train_RMSE\":train_RMSE,\"Test_RMSE\":test_RMSE},ignore_index=True)"
   ],
   "outputs": [
    {
     "output_type": "stream",
     "name": "stderr",
     "text": [
      "/var/folders/q8/kg4v5mr16fv47tpsjyg28zlc0000gn/T/ipykernel_86438/2149240601.py:26: FutureWarning: The frame.append method is deprecated and will be removed from pandas in a future version. Use pandas.concat instead.\n",
      "  rmse_df = rmse_df.append({\"Degree\":degree,\"Train_RMSE\":train_RMSE,\"Test_RMSE\":test_RMSE},ignore_index=True)\n",
      "/var/folders/q8/kg4v5mr16fv47tpsjyg28zlc0000gn/T/ipykernel_86438/2149240601.py:26: FutureWarning: The frame.append method is deprecated and will be removed from pandas in a future version. Use pandas.concat instead.\n",
      "  rmse_df = rmse_df.append({\"Degree\":degree,\"Train_RMSE\":train_RMSE,\"Test_RMSE\":test_RMSE},ignore_index=True)\n",
      "/var/folders/q8/kg4v5mr16fv47tpsjyg28zlc0000gn/T/ipykernel_86438/2149240601.py:26: FutureWarning: The frame.append method is deprecated and will be removed from pandas in a future version. Use pandas.concat instead.\n",
      "  rmse_df = rmse_df.append({\"Degree\":degree,\"Train_RMSE\":train_RMSE,\"Test_RMSE\":test_RMSE},ignore_index=True)\n",
      "/var/folders/q8/kg4v5mr16fv47tpsjyg28zlc0000gn/T/ipykernel_86438/2149240601.py:26: FutureWarning: The frame.append method is deprecated and will be removed from pandas in a future version. Use pandas.concat instead.\n",
      "  rmse_df = rmse_df.append({\"Degree\":degree,\"Train_RMSE\":train_RMSE,\"Test_RMSE\":test_RMSE},ignore_index=True)\n"
     ]
    }
   ],
   "metadata": {}
  },
  {
   "cell_type": "code",
   "execution_count": 83,
   "source": [
    "rmse_df.plot(kind=\"line\",x=\"Degree\")"
   ],
   "outputs": [
    {
     "output_type": "stream",
     "name": "stderr",
     "text": [
      "/Users/Sami/.local/share/virtualenvs/Machine-Learning-SAMI-FATMI-6_LropDT/lib/python3.9/site-packages/pandas/core/indexes/base.py:6982: FutureWarning: In a future version, the Index constructor will not infer numeric dtypes when passed object-dtype sequences (matching Series behavior)\n",
      "  return Index(sequences[0], name=names)\n"
     ]
    },
    {
     "output_type": "execute_result",
     "data": {
      "text/plain": [
       "<AxesSubplot:xlabel='Degree'>"
      ]
     },
     "metadata": {},
     "execution_count": 83
    },
    {
     "output_type": "display_data",
     "data": {
      "image/png": "[encoded data removed]",
      "text/plain": [
       "<Figure size 432x288 with 1 Axes>"
      ]
     },
     "metadata": {
      "needs_background": "light"
     }
    }
   ],
   "metadata": {}
  },
  {
   "cell_type": "markdown",
   "source": [
    "# 5. Regularization methods (*)\n",
    "\n",
    "Now we will try the regularization methods: ridge regression, lasso regression and elasticnet regression. In the following tasks, use degree = 4.\n",
    "  \n",
    "a) Use ridge regression with cross-validation and test out different alpha-values. I used $ \\alpha = [0.01,0.1,0.5,1,5,10]$ in the cross-validation.\n",
    "- Check which alpha, that the cross-validation chose as the best one.\n",
    "- Check the weights.\n",
    "- Check MAE, MSE, RMSE.\n",
    "  "
   ],
   "metadata": {}
  },
  {
   "cell_type": "code",
   "execution_count": 98,
   "source": [
    "# Ridge regression with Cross validation\n",
    "\n",
    "from sklearn.linear_model import RidgeCV\n",
    "from sklearn.metrics import mean_squared_error,mean_absolute_error\n",
    "\n",
    "model_ridgeCV = RidgeCV(alphas = [0.01,0.1,0.5,1,5,10])\n",
    "model_ridgeCV.fit(poly_transformed_X_train, y_train)\n",
    "y_pred = model_ridgeCV.predict(poly_transformed_X_test)\n",
    "print(f\"The alpha the CV chose : {model_ridgeCV.alpha_}\")\n",
    "print(f\"The weights : {model_ridgeCV.coef_}\")\n",
    "\n",
    "MSE = mean_squared_error(y_test, y_pred)\n",
    "RMSE = np.sqrt(MSE)\n",
    "MAE = mean_absolute_error(y_test, y_pred)\n",
    "\n",
    "print(f\"MSE : {MSE}\")\n",
    "print(f\"MAE : {MAE}\")\n",
    "print(f\"RMSE : {RMSE}\")"
   ],
   "outputs": [
    {
     "output_type": "stream",
     "name": "stdout",
     "text": [
      "The alpha the CV chose : 5.0\n",
      "The weights : [ 0.91469637  0.23893931 -0.67583593  0.20550801 -0.01369317 -0.26007685\n",
      "  0.31867863 -0.03429744 -0.12484035  0.16000319 -0.18105113  0.24878399\n",
      " -0.12692847  0.05002613]\n",
      "MSE : 4.09474802128119\n",
      "MAE : 0.9726793444984752\n",
      "RMSE : 2.0235483738426394\n"
     ]
    }
   ],
   "metadata": {}
  },
  {
   "cell_type": "markdown",
   "source": [
    "b) Use lasso regression with cross-validation and choose number of alphas to 100. If you get a warning that the algorithm is not converging, increase the max iterations, I chose 10000 iterations.\n",
    "\n",
    "- Check which alpha, that the cross-validation chose as the best one.\n",
    "- Check the weights.\n",
    "- Check MAE, MSE, RMSE."
   ],
   "metadata": {}
  },
  {
   "cell_type": "code",
   "execution_count": 102,
   "source": [
    "# Lasso regression with Cross validation\n",
    "\n",
    "from sklearn.linear_model import LassoCV\n",
    "\n",
    "model_lassoCV = LassoCV(eps= 0.001,n_alphas = 100,max_iter = 1e4, cv=5)\n",
    "model_lassoCV.fit(poly_transformed_X_train, y_train)\n",
    "\n",
    "print(f\"Chosen alpha {model_lassoCV.alpha_}\")\n",
    "print(f\"Weights {model_lassoCV.coef_}\")\n",
    "\n",
    "y_pred = model_lassoCV.predict(poly_transformed_X_test)\n",
    "\n",
    "MSE = mean_squared_error(y_test, y_pred)\n",
    "RMSE = np.sqrt(MSE)\n",
    "MAE = mean_absolute_error(y_test, y_pred)\n",
    "\n",
    "print(f\"MSE : {MSE}\")\n",
    "print(f\"MAE : {MAE}\")\n",
    "print(f\"RMSE : {RMSE}\")\n"
   ],
   "outputs": [
    {
     "output_type": "stream",
     "name": "stdout",
     "text": [
      "Chosen alpha 0.20770232166587632\n",
      "Weights [ 0.23469707  0.         -0.         -0.          0.          0.08814685\n",
      "  0.09735986  0.          0.03219702  0.          0.          0.\n",
      " -0.          0.        ]\n",
      "MSE : 1.8614850184849174\n",
      "MAE : 0.9042078936561514\n",
      "RMSE : 1.3643624952646995\n"
     ]
    }
   ],
   "metadata": {}
  },
  {
   "cell_type": "markdown",
   "source": [
    "c) Use elasticnet regression with cross-validation and choose number of alphas to 100. If you get a warning that the algorithm is not converging, increase the max iterations, I chose 10000 iterations. Choose a set of $l_1$ ratios for it to try out. I chose $l_1 = [0.001,0.01,0.05,0.1,0.5,0.95,1]$\n",
    "\n",
    "- Check which alpha, that the cross-validation chose as the best one.\n",
    "- Check the weights.\n",
    "- Check MAE, MSE, RMSE."
   ],
   "metadata": {}
  },
  {
   "cell_type": "code",
   "execution_count": 107,
   "source": [
    "from sklearn.linear_model import ElasticNetCV\n",
    "\n",
    "model_elastic = ElasticNetCV(l1_ratio = [0.001,0.01,0.05,0.1,0.5,0.95,1], max_iter=10000)\n",
    "model_elastic.fit(poly_transformed_X_train, y_train)\n",
    "\n",
    "print(f\"L1 ratio {model_elastic.l1_ratio_}\")\n",
    "print(f\"alpha (penalty) {model_elastic.alpha_}\")\n",
    "\n",
    "y_pred = model_elastic.predict(poly_transformed_X_test)\n",
    "\n",
    "MSE = mean_squared_error(y_test, y_pred)\n",
    "RMSE = np.sqrt(MSE)\n",
    "MAE = mean_absolute_error(y_test, y_pred)\n",
    "\n",
    "print(f\"MSE : {MSE}\")\n",
    "print(f\"MAE : {MAE}\")\n",
    "print(f\"RMSE : {RMSE}\")"
   ],
   "outputs": [
    {
     "output_type": "stream",
     "name": "stdout",
     "text": [
      "L1 ratio 0.95\n",
      "alpha (penalty) 0.10148092389050332\n",
      "MSE : 2.0417765677467883\n",
      "MAE : 0.8616191586871643\n",
      "RMSE : 1.4289074734729286\n"
     ]
    }
   ],
   "metadata": {}
  }
 ],
 "metadata": {
  "orig_nbformat": 4,
  "language_info": {
   "name": "python",
   "version": "3.9.7",
   "mimetype": "text/x-python",
   "codemirror_mode": {
    "name": "ipython",
    "version": 3
   },
   "pygments_lexer": "ipython3",
   "nbconvert_exporter": "python",
   "file_extension": ".py"
  },
  "kernelspec": {
   "name": "python3",
   "display_name": "Python 3.9.7 64-bit ('Machine-Learning-SAMI-FATMI-6_LropDT': pipenv)"
  },
  "interpreter": {
   "hash": "8eea3e6ec9773b320c1fcb02c86dea2e86f0ad992d97d5612578351ee45aefbc"
  }
 },
 "nbformat": 4,
 "nbformat_minor": 2
}
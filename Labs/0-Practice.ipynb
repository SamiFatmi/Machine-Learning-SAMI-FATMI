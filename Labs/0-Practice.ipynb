{
 "cells": [
  {
   "cell_type": "code",
   "execution_count": 17,
   "source": [
    "# imports\n",
    "import pandas as pd \n",
    "from scipy.sparse import csr_matrix\n",
    "from sklearn.neighbors import NearestNeighbors\n",
    "from fuzzywuzzy import process"
   ],
   "outputs": [
    {
     "output_type": "stream",
     "name": "stderr",
     "text": [
      "/Users/Sami/.local/share/virtualenvs/Machine-Learning-SAMI-FATMI-6_LropDT/lib/python3.9/site-packages/fuzzywuzzy/fuzz.py:11: UserWarning: Using slow pure-python SequenceMatcher. Install python-Levenshtein to remove this warning\n",
      "  warnings.warn('Using slow pure-python SequenceMatcher. Install python-Levenshtein to remove this warning')\n"
     ]
    }
   ],
   "metadata": {}
  },
  {
   "cell_type": "code",
   "execution_count": 10,
   "source": [
    "movies = \"ml-latest-small/movies.csv\"\n",
    "ratings = \"ml-latest-small/ratings.csv\"\n",
    "\n",
    "df_movies = pd.read_csv(movies,usecols=[\"movieId\",\"title\"],dtype={\"moveId\":\"int32\",\"title\":\"str\"})\n",
    "df_ratings = pd.read_csv(ratings,usecols=[\"userId\",\"movieId\",\"rating\"],dtype={\"userId\":\"int32\",\"moveId\":\"int32\",\"rating\":\"float32\"})"
   ],
   "outputs": [],
   "metadata": {}
  },
  {
   "cell_type": "code",
   "execution_count": 8,
   "source": [
    "ratings.head()"
   ],
   "outputs": [
    {
     "output_type": "execute_result",
     "data": {
      "text/html": [
       "<div>\n",
       "<style scoped>\n",
       "    .dataframe tbody tr th:only-of-type {\n",
       "        vertical-align: middle;\n",
       "    }\n",
       "\n",
       "    .dataframe tbody tr th {\n",
       "        vertical-align: top;\n",
       "    }\n",
       "\n",
       "    .dataframe thead th {\n",
       "        text-align: right;\n",
       "    }\n",
       "</style>\n",
       "<table border=\"1\" class=\"dataframe\">\n",
       "  <thead>\n",
       "    <tr style=\"text-align: right;\">\n",
       "      <th></th>\n",
       "      <th>userId</th>\n",
       "      <th>movieId</th>\n",
       "      <th>rating</th>\n",
       "    </tr>\n",
       "  </thead>\n",
       "  <tbody>\n",
       "    <tr>\n",
       "      <th>0</th>\n",
       "      <td>1</td>\n",
       "      <td>1</td>\n",
       "      <td>4.0</td>\n",
       "    </tr>\n",
       "    <tr>\n",
       "      <th>1</th>\n",
       "      <td>1</td>\n",
       "      <td>3</td>\n",
       "      <td>4.0</td>\n",
       "    </tr>\n",
       "    <tr>\n",
       "      <th>2</th>\n",
       "      <td>1</td>\n",
       "      <td>6</td>\n",
       "      <td>4.0</td>\n",
       "    </tr>\n",
       "    <tr>\n",
       "      <th>3</th>\n",
       "      <td>1</td>\n",
       "      <td>47</td>\n",
       "      <td>5.0</td>\n",
       "    </tr>\n",
       "    <tr>\n",
       "      <th>4</th>\n",
       "      <td>1</td>\n",
       "      <td>50</td>\n",
       "      <td>5.0</td>\n",
       "    </tr>\n",
       "  </tbody>\n",
       "</table>\n",
       "</div>"
      ],
      "text/plain": [
       "   userId  movieId  rating\n",
       "0       1        1     4.0\n",
       "1       1        3     4.0\n",
       "2       1        6     4.0\n",
       "3       1       47     5.0\n",
       "4       1       50     5.0"
      ]
     },
     "metadata": {},
     "execution_count": 8
    }
   ],
   "metadata": {}
  },
  {
   "cell_type": "code",
   "execution_count": 13,
   "source": [
    "#Spars matrix \n",
    "\n",
    "movies_users = df_ratings.pivot(index=\"movieId\",columns=\"userId\",values=\"rating\").fillna(0)\n",
    "\n",
    "movies_users_matrix = csr_matrix(movies_users.values)\n"
   ],
   "outputs": [],
   "metadata": {}
  },
  {
   "cell_type": "code",
   "execution_count": 16,
   "source": [
    "model_knn = NearestNeighbors(metric = \"cosine\",algorithm = \"brute\",n_neighbors = 20)\n",
    "\n",
    "model_knn.fit(movies_users_matrix)"
   ],
   "outputs": [
    {
     "output_type": "execute_result",
     "data": {
      "text/plain": [
       "NearestNeighbors(algorithm='brute', metric='cosine', n_neighbors=20)"
      ]
     },
     "metadata": {},
     "execution_count": 16
    }
   ],
   "metadata": {}
  },
  {
   "cell_type": "code",
   "execution_count": 21,
   "source": [
    "# Recommender function \n",
    "\n",
    "def recommender(movie, data, model, n_recommendations=5): \n",
    "    model.fit(data)\n",
    "    movie_index = process.extractOne(movie,df_movies[\"title\"])[2]\n",
    "\n",
    "    distances,indexes = model.kneighbors(data[movie_index],n_neighbors = n_recommendations)\n",
    "\n",
    "    for idx in indexes : \n",
    "        print(df_movies[\"title\"][idx].where(idx!=movie_index))\n",
    "    \n",
    "recommender(\"batman\",movies_users_matrix,model_knn,20)"
   ],
   "outputs": [
    {
     "output_type": "stream",
     "name": "stdout",
     "text": [
      "126                                                  NaN\n",
      "509                                        Batman (1989)\n",
      "337                                     True Lies (1994)\n",
      "302                    Ace Ventura: Pet Detective (1994)\n",
      "378                                   Cliffhanger (1993)\n",
      "508                            Dances with Wolves (1990)\n",
      "138                    Die Hard: With a Vengeance (1995)\n",
      "275                                      Stargate (1994)\n",
      "506                                       Aladdin (1992)\n",
      "307                      Clear and Present Danger (1994)\n",
      "217    Interview with the Vampire: The Vampire Chroni...\n",
      "9                                       GoldenEye (1995)\n",
      "123                                     Apollo 13 (1995)\n",
      "418                                 Jurassic Park (1993)\n",
      "287                        Star Trek: Generations (1994)\n",
      "398                                 Fugitive, The (1993)\n",
      "197               Dumb & Dumber (Dumb and Dumber) (1994)\n",
      "253                                      Outbreak (1995)\n",
      "176                                    Waterworld (1995)\n",
      "325                                     Mask, The (1994)\n",
      "Name: title, dtype: object\n"
     ]
    }
   ],
   "metadata": {}
  }
 ],
 "metadata": {
  "orig_nbformat": 4,
  "language_info": {
   "name": "python",
   "version": "3.9.7",
   "mimetype": "text/x-python",
   "codemirror_mode": {
    "name": "ipython",
    "version": 3
   },
   "pygments_lexer": "ipython3",
   "nbconvert_exporter": "python",
   "file_extension": ".py"
  },
  "kernelspec": {
   "name": "python3",
   "display_name": "Python 3.9.7 64-bit ('Machine-Learning-SAMI-FATMI-6_LropDT': pipenv)"
  },
  "interpreter": {
   "hash": "8eea3e6ec9773b320c1fcb02c86dea2e86f0ad992d97d5612578351ee45aefbc"
  }
 },
 "nbformat": 4,
 "nbformat_minor": 2
}
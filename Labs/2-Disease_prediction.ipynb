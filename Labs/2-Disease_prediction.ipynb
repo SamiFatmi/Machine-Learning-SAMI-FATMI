{
 "cells": [
  {
   "cell_type": "markdown",
   "source": [
    "# Disease prediction"
   ],
   "metadata": {}
  },
  {
   "cell_type": "code",
   "execution_count": 1,
   "source": [
    "# imports\n",
    "import pandas as pd \n",
    "import numpy as np \n",
    "import seaborn as sns\n",
    "import matplotlib.pyplot as plt"
   ],
   "outputs": [],
   "metadata": {}
  },
  {
   "cell_type": "markdown",
   "source": [
    "# 2.0 EDA"
   ],
   "metadata": {}
  },
  {
   "cell_type": "code",
   "execution_count": 2,
   "source": [
    "#reading the data in\n",
    "\n",
    "df = pd.read_csv(\"Cardio-data/cardio_train.csv\")"
   ],
   "outputs": [],
   "metadata": {}
  },
  {
   "cell_type": "code",
   "execution_count": 3,
   "source": [
    "#data checking \n",
    "\n",
    "#df.info()\n",
    "#df.describe()\n",
    "\n",
    "df.head()"
   ],
   "outputs": [
    {
     "output_type": "execute_result",
     "data": {
      "text/html": [
       "<div>\n",
       "<style scoped>\n",
       "    .dataframe tbody tr th:only-of-type {\n",
       "        vertical-align: middle;\n",
       "    }\n",
       "\n",
       "    .dataframe tbody tr th {\n",
       "        vertical-align: top;\n",
       "    }\n",
       "\n",
       "    .dataframe thead th {\n",
       "        text-align: right;\n",
       "    }\n",
       "</style>\n",
       "<table border=\"1\" class=\"dataframe\">\n",
       "  <thead>\n",
       "    <tr style=\"text-align: right;\">\n",
       "      <th></th>\n",
       "      <th>id</th>\n",
       "      <th>age</th>\n",
       "      <th>gender</th>\n",
       "      <th>height</th>\n",
       "      <th>weight</th>\n",
       "      <th>ap_hi</th>\n",
       "      <th>ap_lo</th>\n",
       "      <th>cholesterol</th>\n",
       "      <th>gluc</th>\n",
       "      <th>smoke</th>\n",
       "      <th>alco</th>\n",
       "      <th>active</th>\n",
       "      <th>cardio</th>\n",
       "    </tr>\n",
       "  </thead>\n",
       "  <tbody>\n",
       "    <tr>\n",
       "      <th>0</th>\n",
       "      <td>0</td>\n",
       "      <td>18393</td>\n",
       "      <td>2</td>\n",
       "      <td>168</td>\n",
       "      <td>62.0</td>\n",
       "      <td>110</td>\n",
       "      <td>80</td>\n",
       "      <td>1</td>\n",
       "      <td>1</td>\n",
       "      <td>0</td>\n",
       "      <td>0</td>\n",
       "      <td>1</td>\n",
       "      <td>0</td>\n",
       "    </tr>\n",
       "    <tr>\n",
       "      <th>1</th>\n",
       "      <td>1</td>\n",
       "      <td>20228</td>\n",
       "      <td>1</td>\n",
       "      <td>156</td>\n",
       "      <td>85.0</td>\n",
       "      <td>140</td>\n",
       "      <td>90</td>\n",
       "      <td>3</td>\n",
       "      <td>1</td>\n",
       "      <td>0</td>\n",
       "      <td>0</td>\n",
       "      <td>1</td>\n",
       "      <td>1</td>\n",
       "    </tr>\n",
       "    <tr>\n",
       "      <th>2</th>\n",
       "      <td>2</td>\n",
       "      <td>18857</td>\n",
       "      <td>1</td>\n",
       "      <td>165</td>\n",
       "      <td>64.0</td>\n",
       "      <td>130</td>\n",
       "      <td>70</td>\n",
       "      <td>3</td>\n",
       "      <td>1</td>\n",
       "      <td>0</td>\n",
       "      <td>0</td>\n",
       "      <td>0</td>\n",
       "      <td>1</td>\n",
       "    </tr>\n",
       "    <tr>\n",
       "      <th>3</th>\n",
       "      <td>3</td>\n",
       "      <td>17623</td>\n",
       "      <td>2</td>\n",
       "      <td>169</td>\n",
       "      <td>82.0</td>\n",
       "      <td>150</td>\n",
       "      <td>100</td>\n",
       "      <td>1</td>\n",
       "      <td>1</td>\n",
       "      <td>0</td>\n",
       "      <td>0</td>\n",
       "      <td>1</td>\n",
       "      <td>1</td>\n",
       "    </tr>\n",
       "    <tr>\n",
       "      <th>4</th>\n",
       "      <td>4</td>\n",
       "      <td>17474</td>\n",
       "      <td>1</td>\n",
       "      <td>156</td>\n",
       "      <td>56.0</td>\n",
       "      <td>100</td>\n",
       "      <td>60</td>\n",
       "      <td>1</td>\n",
       "      <td>1</td>\n",
       "      <td>0</td>\n",
       "      <td>0</td>\n",
       "      <td>0</td>\n",
       "      <td>0</td>\n",
       "    </tr>\n",
       "  </tbody>\n",
       "</table>\n",
       "</div>"
      ],
      "text/plain": [
       "   id    age  gender  height  weight  ap_hi  ap_lo  cholesterol  gluc  smoke  \\\n",
       "0   0  18393       2     168    62.0    110     80            1     1      0   \n",
       "1   1  20228       1     156    85.0    140     90            3     1      0   \n",
       "2   2  18857       1     165    64.0    130     70            3     1      0   \n",
       "3   3  17623       2     169    82.0    150    100            1     1      0   \n",
       "4   4  17474       1     156    56.0    100     60            1     1      0   \n",
       "\n",
       "   alco  active  cardio  \n",
       "0     0       1       0  \n",
       "1     0       1       1  \n",
       "2     0       0       1  \n",
       "3     0       1       1  \n",
       "4     0       0       0  "
      ]
     },
     "metadata": {},
     "execution_count": 3
    }
   ],
   "metadata": {}
  },
  {
   "cell_type": "code",
   "execution_count": 4,
   "source": [
    "# number of people with cardio \n",
    "\n",
    "df_cardio = pd.DataFrame(df[[\"cardio\"]].value_counts()).rename(columns = {0:\"Number of patients\"})\n",
    "\n",
    "print(f\"Number of people WITH heart disease : {df_cardio[df_cardio.index == (1,)].values[0][0]}\")\n",
    "print(f\"Number of people WITHOUT heart disease : {df_cardio[df_cardio.index == (0,)].values[0][0]}\")\n"
   ],
   "outputs": [
    {
     "output_type": "stream",
     "name": "stdout",
     "text": [
      "Number of people WITH heart disease : 34979\n",
      "Number of people WITHOUT heart disease : 35021\n"
     ]
    }
   ],
   "metadata": {}
  },
  {
   "cell_type": "code",
   "execution_count": 5,
   "source": [
    "# number of people by cholesterol level\n",
    "df_cholesterol = pd.DataFrame(df[[\"cholesterol\"]].groupby(\"cholesterol\").size()).rename(columns={0:\"Number of people\"}).reset_index()\n",
    "\n",
    "plt.figure(figsize=(10,5))\n",
    "plt.pie(df_cholesterol[\"Number of people\"], \n",
    "            labels = [\"Normal\",\"Above normal\",\"Well above normal\"], \n",
    "            explode=(0.1, 0.1, 0.1),\n",
    "            autopct='%1.1f%%'\n",
    "            )\n",
    "plt.title(\"Percentage of people by cholesterol type\")"
   ],
   "outputs": [
    {
     "output_type": "execute_result",
     "data": {
      "text/plain": [
       "Text(0.5, 1.0, 'Percentage of people by cholesterol type')"
      ]
     },
     "metadata": {},
     "execution_count": 5
    },
    {
     "output_type": "display_data",
     "data": {
      "image/png": "[encoded data removed]",
      "text/plain": [
       "<Figure size 720x360 with 1 Axes>"
      ]
     },
     "metadata": {}
    }
   ],
   "metadata": {}
  },
  {
   "cell_type": "code",
   "execution_count": 6,
   "source": [
    "# Age distribution \n",
    "\n",
    "df_age = df[\"age\"]//365 \n",
    "\n",
    "df_age = pd.DataFrame(df_age.value_counts()).reset_index().rename(columns = {\"index\":\"Age\",\"age\":\"Number of people\"}).sort_values(\"Age\",ascending=True).reset_index(drop=True)\n",
    "\n",
    "sns.barplot(data=df_age, \n",
    "                x=\"Age\",\n",
    "                y=\"Number of people\"\n",
    "            ).set(title=\"Number of patients by age\")"
   ],
   "outputs": [
    {
     "output_type": "execute_result",
     "data": {
      "text/plain": [
       "[Text(0.5, 1.0, 'Number of patients by age')]"
      ]
     },
     "metadata": {},
     "execution_count": 6
    },
    {
     "output_type": "display_data",
     "data": {
      "image/png": "[encoded data removed]",
      "text/plain": [
       "<Figure size 432x288 with 1 Axes>"
      ]
     },
     "metadata": {
      "needs_background": "light"
     }
    }
   ],
   "metadata": {}
  },
  {
   "cell_type": "code",
   "execution_count": 7,
   "source": [
    "# Percentage of smokers \n",
    "\n",
    "df_smoke = df[[\"smoke\"]].value_counts()\n",
    "\n",
    "df_smoke = pd.DataFrame(df_smoke).reset_index().rename(columns = {0:\"Number of patients\"})\n",
    "df_smoke[\"smoke\"] = [\"Non-smoker\",\"Smoker\"]\n",
    "\n",
    "plt.pie(df_smoke[\"Number of patients\"], \n",
    "            labels = df_smoke[\"smoke\"],\n",
    "            autopct='%.0f%%' \n",
    "            )\n",
    "plt.title(\"Percentage of smokers and non smokers\")\n",
    "plt.show()"
   ],
   "outputs": [
    {
     "output_type": "display_data",
     "data": {
      "image/png": "[encoded data removed]",
      "text/plain": [
       "<Figure size 432x288 with 1 Axes>"
      ]
     },
     "metadata": {}
    }
   ],
   "metadata": {}
  },
  {
   "cell_type": "code",
   "execution_count": 8,
   "source": [
    "# Weight distribution \n",
    "\n",
    "df_weight = df[[\"weight\",\"gender\"]].astype(\"int32\").groupby([\"weight\",\"gender\"]).size()\n",
    "\n",
    "df_weight = pd.DataFrame(df_weight).reset_index().rename(columns={0:\"Number of patients\"}).sort_values(\"weight\",ascending=True).reset_index(drop=True)\n",
    "\n",
    "sns.lineplot(data = df_weight, \n",
    "                x=\"weight\", \n",
    "                y=\"Number of patients\",\n",
    "                hue=\"gender\"\n",
    "                )"
   ],
   "outputs": [
    {
     "output_type": "execute_result",
     "data": {
      "text/plain": [
       "<AxesSubplot:xlabel='weight', ylabel='Number of patients'>"
      ]
     },
     "metadata": {},
     "execution_count": 8
    },
    {
     "output_type": "display_data",
     "data": {
      "image/png": "[encoded data removed]",
      "text/plain": [
       "<Figure size 432x288 with 1 Axes>"
      ]
     },
     "metadata": {
      "needs_background": "light"
     }
    }
   ],
   "metadata": {}
  },
  {
   "cell_type": "code",
   "execution_count": 9,
   "source": [
    "# Height distribution \n",
    "\n",
    "df_height = df_weight = df[[\"height\",\"gender\"]].astype(\"int32\").groupby([\"height\",\"gender\"]).size()\n",
    "\n",
    "df_height = pd.DataFrame(df_height).reset_index().rename(columns={0:\"Number of patients\"}).sort_values(\"height\",ascending=True).reset_index(drop=True)\n",
    "\n",
    "plt.plot(df_height[df_height[\"gender\"]==1][\"height\"],df_height[df_height[\"gender\"]==1][\"Number of patients\"])\n",
    "plt.plot(df_height[df_height[\"gender\"]==2][\"height\"],df_height[df_height[\"gender\"]==2][\"Number of patients\"])\n",
    "\n",
    "#sns.lineplot(data = df_height, \n",
    "#                x=\"height\", \n",
    "#                y=\"Number of patients\",\n",
    "#                hue=\"gender\"\n",
    "#                )"
   ],
   "outputs": [
    {
     "output_type": "execute_result",
     "data": {
      "text/plain": [
       "[<matplotlib.lines.Line2D at 0x7fbd010e0040>]"
      ]
     },
     "metadata": {},
     "execution_count": 9
    },
    {
     "output_type": "display_data",
     "data": {
      "image/png": "[encoded data removed]",
      "text/plain": [
       "<Figure size 432x288 with 1 Axes>"
      ]
     },
     "metadata": {
      "needs_background": "light"
     }
    }
   ],
   "metadata": {}
  },
  {
   "cell_type": "code",
   "execution_count": 10,
   "source": [
    "df_men_cardio = pd.DataFrame(df[df.gender == 1][[\"cardio\"]].value_counts()).reset_index().rename(columns={0:\"Number of patients\"})\n",
    "df_women_cardio = pd.DataFrame(df[df.gender == 2][[\"cardio\"]].value_counts()).reset_index().rename(columns={0:\"Number of patients\"})\n",
    "\n",
    "fig,ax = plt.subplots(1,2,figsize=(8,4))\n",
    "\n",
    "ax[0].pie(df_men_cardio[\"Number of patients\"],\n",
    "            labels = [\"Cardio\",\"No Cardio\"],\n",
    "            autopct='%.0f%%' )\n",
    "\n",
    "ax[1].pie(df_women_cardio[\"Number of patients\"],\n",
    "            labels = [\"Cardio\",\"No Cardio\"],\n",
    "            autopct='%.0f%%' )"
   ],
   "outputs": [
    {
     "output_type": "execute_result",
     "data": {
      "text/plain": [
       "([<matplotlib.patches.Wedge at 0x7fbd0422fa60>,\n",
       "  <matplotlib.patches.Wedge at 0x7fbd0423b1c0>],\n",
       " [Text(-0.018075891633365444, 1.099851472764236, 'Cardio'),\n",
       "  Text(0.018075891633365555, -1.099851472764236, 'No Cardio')],\n",
       " [Text(-0.00985957725456297, 0.5999189851441287, '51%'),\n",
       "  Text(0.00985957725456303, -0.5999189851441287, '49%')])"
      ]
     },
     "metadata": {},
     "execution_count": 10
    },
    {
     "output_type": "display_data",
     "data": {
      "image/png": "[encoded data removed]",
      "text/plain": [
       "<Figure size 576x288 with 2 Axes>"
      ]
     },
     "metadata": {}
    }
   ],
   "metadata": {}
  },
  {
   "cell_type": "markdown",
   "source": [
    "# 2.1.0 Feature engineering : BMI "
   ],
   "metadata": {}
  },
  {
   "cell_type": "code",
   "execution_count": 11,
   "source": [
    "# create BMI index\n",
    "\n",
    "df_modified = df[:]\n",
    "df_modified[\"BMI\"]=df_modified[\"weight\"]/((df_modified[\"height\"]*0.01)**2)\n",
    "\n",
    "df_modified.head()"
   ],
   "outputs": [
    {
     "output_type": "stream",
     "name": "stderr",
     "text": [
      "/var/folders/q8/kg4v5mr16fv47tpsjyg28zlc0000gn/T/ipykernel_68648/875335930.py:4: SettingWithCopyWarning: \n",
      "A value is trying to be set on a copy of a slice from a DataFrame.\n",
      "Try using .loc[row_indexer,col_indexer] = value instead\n",
      "\n",
      "See the caveats in the documentation: https://pandas.pydata.org/pandas-docs/stable/user_guide/indexing.html#returning-a-view-versus-a-copy\n",
      "  df_modified[\"BMI\"]=df_modified[\"weight\"]/((df_modified[\"height\"]*0.01)**2)\n"
     ]
    },
    {
     "output_type": "execute_result",
     "data": {
      "text/html": [
       "<div>\n",
       "<style scoped>\n",
       "    .dataframe tbody tr th:only-of-type {\n",
       "        vertical-align: middle;\n",
       "    }\n",
       "\n",
       "    .dataframe tbody tr th {\n",
       "        vertical-align: top;\n",
       "    }\n",
       "\n",
       "    .dataframe thead th {\n",
       "        text-align: right;\n",
       "    }\n",
       "</style>\n",
       "<table border=\"1\" class=\"dataframe\">\n",
       "  <thead>\n",
       "    <tr style=\"text-align: right;\">\n",
       "      <th></th>\n",
       "      <th>id</th>\n",
       "      <th>age</th>\n",
       "      <th>gender</th>\n",
       "      <th>height</th>\n",
       "      <th>weight</th>\n",
       "      <th>ap_hi</th>\n",
       "      <th>ap_lo</th>\n",
       "      <th>cholesterol</th>\n",
       "      <th>gluc</th>\n",
       "      <th>smoke</th>\n",
       "      <th>alco</th>\n",
       "      <th>active</th>\n",
       "      <th>cardio</th>\n",
       "      <th>BMI</th>\n",
       "    </tr>\n",
       "  </thead>\n",
       "  <tbody>\n",
       "    <tr>\n",
       "      <th>0</th>\n",
       "      <td>0</td>\n",
       "      <td>18393</td>\n",
       "      <td>2</td>\n",
       "      <td>168</td>\n",
       "      <td>62.0</td>\n",
       "      <td>110</td>\n",
       "      <td>80</td>\n",
       "      <td>1</td>\n",
       "      <td>1</td>\n",
       "      <td>0</td>\n",
       "      <td>0</td>\n",
       "      <td>1</td>\n",
       "      <td>0</td>\n",
       "      <td>21.967120</td>\n",
       "    </tr>\n",
       "    <tr>\n",
       "      <th>1</th>\n",
       "      <td>1</td>\n",
       "      <td>20228</td>\n",
       "      <td>1</td>\n",
       "      <td>156</td>\n",
       "      <td>85.0</td>\n",
       "      <td>140</td>\n",
       "      <td>90</td>\n",
       "      <td>3</td>\n",
       "      <td>1</td>\n",
       "      <td>0</td>\n",
       "      <td>0</td>\n",
       "      <td>1</td>\n",
       "      <td>1</td>\n",
       "      <td>34.927679</td>\n",
       "    </tr>\n",
       "    <tr>\n",
       "      <th>2</th>\n",
       "      <td>2</td>\n",
       "      <td>18857</td>\n",
       "      <td>1</td>\n",
       "      <td>165</td>\n",
       "      <td>64.0</td>\n",
       "      <td>130</td>\n",
       "      <td>70</td>\n",
       "      <td>3</td>\n",
       "      <td>1</td>\n",
       "      <td>0</td>\n",
       "      <td>0</td>\n",
       "      <td>0</td>\n",
       "      <td>1</td>\n",
       "      <td>23.507805</td>\n",
       "    </tr>\n",
       "    <tr>\n",
       "      <th>3</th>\n",
       "      <td>3</td>\n",
       "      <td>17623</td>\n",
       "      <td>2</td>\n",
       "      <td>169</td>\n",
       "      <td>82.0</td>\n",
       "      <td>150</td>\n",
       "      <td>100</td>\n",
       "      <td>1</td>\n",
       "      <td>1</td>\n",
       "      <td>0</td>\n",
       "      <td>0</td>\n",
       "      <td>1</td>\n",
       "      <td>1</td>\n",
       "      <td>28.710479</td>\n",
       "    </tr>\n",
       "    <tr>\n",
       "      <th>4</th>\n",
       "      <td>4</td>\n",
       "      <td>17474</td>\n",
       "      <td>1</td>\n",
       "      <td>156</td>\n",
       "      <td>56.0</td>\n",
       "      <td>100</td>\n",
       "      <td>60</td>\n",
       "      <td>1</td>\n",
       "      <td>1</td>\n",
       "      <td>0</td>\n",
       "      <td>0</td>\n",
       "      <td>0</td>\n",
       "      <td>0</td>\n",
       "      <td>23.011177</td>\n",
       "    </tr>\n",
       "  </tbody>\n",
       "</table>\n",
       "</div>"
      ],
      "text/plain": [
       "   id    age  gender  height  weight  ap_hi  ap_lo  cholesterol  gluc  smoke  \\\n",
       "0   0  18393       2     168    62.0    110     80            1     1      0   \n",
       "1   1  20228       1     156    85.0    140     90            3     1      0   \n",
       "2   2  18857       1     165    64.0    130     70            3     1      0   \n",
       "3   3  17623       2     169    82.0    150    100            1     1      0   \n",
       "4   4  17474       1     156    56.0    100     60            1     1      0   \n",
       "\n",
       "   alco  active  cardio        BMI  \n",
       "0     0       1       0  21.967120  \n",
       "1     0       1       1  34.927679  \n",
       "2     0       0       1  23.507805  \n",
       "3     0       1       1  28.710479  \n",
       "4     0       0       0  23.011177  "
      ]
     },
     "metadata": {},
     "execution_count": 11
    }
   ],
   "metadata": {}
  },
  {
   "cell_type": "code",
   "execution_count": 12,
   "source": [
    "#cleaning unreal and extreme data \n",
    "\n",
    "df_modified = df_modified[ df_modified.BMI > 8 ]\n",
    "df_modified.describe()"
   ],
   "outputs": [
    {
     "output_type": "execute_result",
     "data": {
      "text/html": [
       "<div>\n",
       "<style scoped>\n",
       "    .dataframe tbody tr th:only-of-type {\n",
       "        vertical-align: middle;\n",
       "    }\n",
       "\n",
       "    .dataframe tbody tr th {\n",
       "        vertical-align: top;\n",
       "    }\n",
       "\n",
       "    .dataframe thead th {\n",
       "        text-align: right;\n",
       "    }\n",
       "</style>\n",
       "<table border=\"1\" class=\"dataframe\">\n",
       "  <thead>\n",
       "    <tr style=\"text-align: right;\">\n",
       "      <th></th>\n",
       "      <th>id</th>\n",
       "      <th>age</th>\n",
       "      <th>gender</th>\n",
       "      <th>height</th>\n",
       "      <th>weight</th>\n",
       "      <th>ap_hi</th>\n",
       "      <th>ap_lo</th>\n",
       "      <th>cholesterol</th>\n",
       "      <th>gluc</th>\n",
       "      <th>smoke</th>\n",
       "      <th>alco</th>\n",
       "      <th>active</th>\n",
       "      <th>cardio</th>\n",
       "      <th>BMI</th>\n",
       "    </tr>\n",
       "  </thead>\n",
       "  <tbody>\n",
       "    <tr>\n",
       "      <th>count</th>\n",
       "      <td>69997.000000</td>\n",
       "      <td>69997.000000</td>\n",
       "      <td>69997.000000</td>\n",
       "      <td>69997.000000</td>\n",
       "      <td>69997.000000</td>\n",
       "      <td>69997.000000</td>\n",
       "      <td>69997.000000</td>\n",
       "      <td>69997.000000</td>\n",
       "      <td>69997.000000</td>\n",
       "      <td>69997.000000</td>\n",
       "      <td>69997.000000</td>\n",
       "      <td>69997.000000</td>\n",
       "      <td>69997.000000</td>\n",
       "      <td>69997.000000</td>\n",
       "    </tr>\n",
       "    <tr>\n",
       "      <th>mean</th>\n",
       "      <td>49972.089547</td>\n",
       "      <td>19468.831707</td>\n",
       "      <td>1.349544</td>\n",
       "      <td>164.358844</td>\n",
       "      <td>74.208256</td>\n",
       "      <td>128.816664</td>\n",
       "      <td>96.616412</td>\n",
       "      <td>1.366873</td>\n",
       "      <td>1.226453</td>\n",
       "      <td>0.088118</td>\n",
       "      <td>0.053759</td>\n",
       "      <td>0.803720</td>\n",
       "      <td>0.499693</td>\n",
       "      <td>27.557491</td>\n",
       "    </tr>\n",
       "    <tr>\n",
       "      <th>std</th>\n",
       "      <td>28851.641752</td>\n",
       "      <td>2467.287778</td>\n",
       "      <td>0.476829</td>\n",
       "      <td>8.210001</td>\n",
       "      <td>14.390684</td>\n",
       "      <td>154.014595</td>\n",
       "      <td>188.438397</td>\n",
       "      <td>0.680258</td>\n",
       "      <td>0.572274</td>\n",
       "      <td>0.283469</td>\n",
       "      <td>0.225544</td>\n",
       "      <td>0.397185</td>\n",
       "      <td>0.500003</td>\n",
       "      <td>6.089798</td>\n",
       "    </tr>\n",
       "    <tr>\n",
       "      <th>min</th>\n",
       "      <td>0.000000</td>\n",
       "      <td>10798.000000</td>\n",
       "      <td>1.000000</td>\n",
       "      <td>55.000000</td>\n",
       "      <td>21.000000</td>\n",
       "      <td>-150.000000</td>\n",
       "      <td>-70.000000</td>\n",
       "      <td>1.000000</td>\n",
       "      <td>1.000000</td>\n",
       "      <td>0.000000</td>\n",
       "      <td>0.000000</td>\n",
       "      <td>0.000000</td>\n",
       "      <td>0.000000</td>\n",
       "      <td>8.001829</td>\n",
       "    </tr>\n",
       "    <tr>\n",
       "      <th>25%</th>\n",
       "      <td>25006.000000</td>\n",
       "      <td>17664.000000</td>\n",
       "      <td>1.000000</td>\n",
       "      <td>159.000000</td>\n",
       "      <td>65.000000</td>\n",
       "      <td>120.000000</td>\n",
       "      <td>80.000000</td>\n",
       "      <td>1.000000</td>\n",
       "      <td>1.000000</td>\n",
       "      <td>0.000000</td>\n",
       "      <td>0.000000</td>\n",
       "      <td>1.000000</td>\n",
       "      <td>0.000000</td>\n",
       "      <td>23.875115</td>\n",
       "    </tr>\n",
       "    <tr>\n",
       "      <th>50%</th>\n",
       "      <td>50002.000000</td>\n",
       "      <td>19703.000000</td>\n",
       "      <td>1.000000</td>\n",
       "      <td>165.000000</td>\n",
       "      <td>72.000000</td>\n",
       "      <td>120.000000</td>\n",
       "      <td>80.000000</td>\n",
       "      <td>1.000000</td>\n",
       "      <td>1.000000</td>\n",
       "      <td>0.000000</td>\n",
       "      <td>0.000000</td>\n",
       "      <td>1.000000</td>\n",
       "      <td>0.000000</td>\n",
       "      <td>26.377898</td>\n",
       "    </tr>\n",
       "    <tr>\n",
       "      <th>75%</th>\n",
       "      <td>74889.000000</td>\n",
       "      <td>21327.000000</td>\n",
       "      <td>2.000000</td>\n",
       "      <td>170.000000</td>\n",
       "      <td>82.000000</td>\n",
       "      <td>140.000000</td>\n",
       "      <td>90.000000</td>\n",
       "      <td>2.000000</td>\n",
       "      <td>1.000000</td>\n",
       "      <td>0.000000</td>\n",
       "      <td>0.000000</td>\n",
       "      <td>1.000000</td>\n",
       "      <td>1.000000</td>\n",
       "      <td>30.222222</td>\n",
       "    </tr>\n",
       "    <tr>\n",
       "      <th>max</th>\n",
       "      <td>99999.000000</td>\n",
       "      <td>23713.000000</td>\n",
       "      <td>2.000000</td>\n",
       "      <td>250.000000</td>\n",
       "      <td>200.000000</td>\n",
       "      <td>16020.000000</td>\n",
       "      <td>11000.000000</td>\n",
       "      <td>3.000000</td>\n",
       "      <td>3.000000</td>\n",
       "      <td>1.000000</td>\n",
       "      <td>1.000000</td>\n",
       "      <td>1.000000</td>\n",
       "      <td>1.000000</td>\n",
       "      <td>298.666667</td>\n",
       "    </tr>\n",
       "  </tbody>\n",
       "</table>\n",
       "</div>"
      ],
      "text/plain": [
       "                 id           age        gender        height        weight  \\\n",
       "count  69997.000000  69997.000000  69997.000000  69997.000000  69997.000000   \n",
       "mean   49972.089547  19468.831707      1.349544    164.358844     74.208256   \n",
       "std    28851.641752   2467.287778      0.476829      8.210001     14.390684   \n",
       "min        0.000000  10798.000000      1.000000     55.000000     21.000000   \n",
       "25%    25006.000000  17664.000000      1.000000    159.000000     65.000000   \n",
       "50%    50002.000000  19703.000000      1.000000    165.000000     72.000000   \n",
       "75%    74889.000000  21327.000000      2.000000    170.000000     82.000000   \n",
       "max    99999.000000  23713.000000      2.000000    250.000000    200.000000   \n",
       "\n",
       "              ap_hi         ap_lo   cholesterol          gluc         smoke  \\\n",
       "count  69997.000000  69997.000000  69997.000000  69997.000000  69997.000000   \n",
       "mean     128.816664     96.616412      1.366873      1.226453      0.088118   \n",
       "std      154.014595    188.438397      0.680258      0.572274      0.283469   \n",
       "min     -150.000000    -70.000000      1.000000      1.000000      0.000000   \n",
       "25%      120.000000     80.000000      1.000000      1.000000      0.000000   \n",
       "50%      120.000000     80.000000      1.000000      1.000000      0.000000   \n",
       "75%      140.000000     90.000000      2.000000      1.000000      0.000000   \n",
       "max    16020.000000  11000.000000      3.000000      3.000000      1.000000   \n",
       "\n",
       "               alco        active        cardio           BMI  \n",
       "count  69997.000000  69997.000000  69997.000000  69997.000000  \n",
       "mean       0.053759      0.803720      0.499693     27.557491  \n",
       "std        0.225544      0.397185      0.500003      6.089798  \n",
       "min        0.000000      0.000000      0.000000      8.001829  \n",
       "25%        0.000000      1.000000      0.000000     23.875115  \n",
       "50%        0.000000      1.000000      0.000000     26.377898  \n",
       "75%        0.000000      1.000000      1.000000     30.222222  \n",
       "max        1.000000      1.000000      1.000000    298.666667  "
      ]
     },
     "metadata": {},
     "execution_count": 12
    }
   ],
   "metadata": {}
  },
  {
   "cell_type": "code",
   "execution_count": 13,
   "source": [
    "df_modified[\"BMI Category\"] = [ \"normal range\" if (X < 25 and X>18.4) \n",
    "                                                else (\"overweight\" if X<30 \n",
    "                                                else (\"obese (class I)\" if X<35 \n",
    "                                                else (\"obese (class II)\" if X<40 \n",
    "                                                else (\"obese (class III)\" if X>=40 \n",
    "                                                else \"Under weight\"))))\n",
    "                                                for X in df_modified[\"BMI\"] ]\n",
    "\n",
    "df_modified.head()"
   ],
   "outputs": [
    {
     "output_type": "execute_result",
     "data": {
      "text/html": [
       "<div>\n",
       "<style scoped>\n",
       "    .dataframe tbody tr th:only-of-type {\n",
       "        vertical-align: middle;\n",
       "    }\n",
       "\n",
       "    .dataframe tbody tr th {\n",
       "        vertical-align: top;\n",
       "    }\n",
       "\n",
       "    .dataframe thead th {\n",
       "        text-align: right;\n",
       "    }\n",
       "</style>\n",
       "<table border=\"1\" class=\"dataframe\">\n",
       "  <thead>\n",
       "    <tr style=\"text-align: right;\">\n",
       "      <th></th>\n",
       "      <th>id</th>\n",
       "      <th>age</th>\n",
       "      <th>gender</th>\n",
       "      <th>height</th>\n",
       "      <th>weight</th>\n",
       "      <th>ap_hi</th>\n",
       "      <th>ap_lo</th>\n",
       "      <th>cholesterol</th>\n",
       "      <th>gluc</th>\n",
       "      <th>smoke</th>\n",
       "      <th>alco</th>\n",
       "      <th>active</th>\n",
       "      <th>cardio</th>\n",
       "      <th>BMI</th>\n",
       "      <th>BMI Category</th>\n",
       "    </tr>\n",
       "  </thead>\n",
       "  <tbody>\n",
       "    <tr>\n",
       "      <th>0</th>\n",
       "      <td>0</td>\n",
       "      <td>18393</td>\n",
       "      <td>2</td>\n",
       "      <td>168</td>\n",
       "      <td>62.0</td>\n",
       "      <td>110</td>\n",
       "      <td>80</td>\n",
       "      <td>1</td>\n",
       "      <td>1</td>\n",
       "      <td>0</td>\n",
       "      <td>0</td>\n",
       "      <td>1</td>\n",
       "      <td>0</td>\n",
       "      <td>21.967120</td>\n",
       "      <td>normal range</td>\n",
       "    </tr>\n",
       "    <tr>\n",
       "      <th>1</th>\n",
       "      <td>1</td>\n",
       "      <td>20228</td>\n",
       "      <td>1</td>\n",
       "      <td>156</td>\n",
       "      <td>85.0</td>\n",
       "      <td>140</td>\n",
       "      <td>90</td>\n",
       "      <td>3</td>\n",
       "      <td>1</td>\n",
       "      <td>0</td>\n",
       "      <td>0</td>\n",
       "      <td>1</td>\n",
       "      <td>1</td>\n",
       "      <td>34.927679</td>\n",
       "      <td>obese (class I)</td>\n",
       "    </tr>\n",
       "    <tr>\n",
       "      <th>2</th>\n",
       "      <td>2</td>\n",
       "      <td>18857</td>\n",
       "      <td>1</td>\n",
       "      <td>165</td>\n",
       "      <td>64.0</td>\n",
       "      <td>130</td>\n",
       "      <td>70</td>\n",
       "      <td>3</td>\n",
       "      <td>1</td>\n",
       "      <td>0</td>\n",
       "      <td>0</td>\n",
       "      <td>0</td>\n",
       "      <td>1</td>\n",
       "      <td>23.507805</td>\n",
       "      <td>normal range</td>\n",
       "    </tr>\n",
       "    <tr>\n",
       "      <th>3</th>\n",
       "      <td>3</td>\n",
       "      <td>17623</td>\n",
       "      <td>2</td>\n",
       "      <td>169</td>\n",
       "      <td>82.0</td>\n",
       "      <td>150</td>\n",
       "      <td>100</td>\n",
       "      <td>1</td>\n",
       "      <td>1</td>\n",
       "      <td>0</td>\n",
       "      <td>0</td>\n",
       "      <td>1</td>\n",
       "      <td>1</td>\n",
       "      <td>28.710479</td>\n",
       "      <td>overweight</td>\n",
       "    </tr>\n",
       "    <tr>\n",
       "      <th>4</th>\n",
       "      <td>4</td>\n",
       "      <td>17474</td>\n",
       "      <td>1</td>\n",
       "      <td>156</td>\n",
       "      <td>56.0</td>\n",
       "      <td>100</td>\n",
       "      <td>60</td>\n",
       "      <td>1</td>\n",
       "      <td>1</td>\n",
       "      <td>0</td>\n",
       "      <td>0</td>\n",
       "      <td>0</td>\n",
       "      <td>0</td>\n",
       "      <td>23.011177</td>\n",
       "      <td>normal range</td>\n",
       "    </tr>\n",
       "  </tbody>\n",
       "</table>\n",
       "</div>"
      ],
      "text/plain": [
       "   id    age  gender  height  weight  ap_hi  ap_lo  cholesterol  gluc  smoke  \\\n",
       "0   0  18393       2     168    62.0    110     80            1     1      0   \n",
       "1   1  20228       1     156    85.0    140     90            3     1      0   \n",
       "2   2  18857       1     165    64.0    130     70            3     1      0   \n",
       "3   3  17623       2     169    82.0    150    100            1     1      0   \n",
       "4   4  17474       1     156    56.0    100     60            1     1      0   \n",
       "\n",
       "   alco  active  cardio        BMI     BMI Category  \n",
       "0     0       1       0  21.967120     normal range  \n",
       "1     0       1       1  34.927679  obese (class I)  \n",
       "2     0       0       1  23.507805     normal range  \n",
       "3     0       1       1  28.710479       overweight  \n",
       "4     0       0       0  23.011177     normal range  "
      ]
     },
     "metadata": {},
     "execution_count": 13
    }
   ],
   "metadata": {}
  },
  {
   "cell_type": "markdown",
   "source": [
    "# 2.1.1 Feature engineering : Blood pressure"
   ],
   "metadata": {}
  },
  {
   "cell_type": "code",
   "execution_count": 14,
   "source": [
    "df_modified = df_modified.drop(df_modified[df_modified[\"ap_lo\"]<0].index)\n",
    "df_modified = df_modified.drop(df_modified[df_modified[\"ap_hi\"]<0].index)\n",
    "\n",
    "df_modified = df_modified.drop(df_modified[df_modified[\"ap_lo\"]>300].index)\n",
    "df_modified = df_modified.drop(df_modified[df_modified[\"ap_hi\"]>300].index)\n",
    "\n",
    "df_modified[\"Blood pressure\"] = [ \"Healthy\" if (i<120 and j<80) \n",
    "                                            else( \"Elevated\" if (i>=120 and i< 130  and j<80) \n",
    "                                            else( \"Stage 1 hypertension\" if ((i>=130 and i< 140)  or ( j<90  and j>=80))\n",
    "                                            else( \"Stage 2 hypertension\" if ((i>=140 and i<=180)  or ( j<=120  and j>=90))\n",
    "                                            else(\"Hypertension crisis\" if i>180 or j>90\n",
    "                                            else \"Non classified\")))) for i,j in zip(df_modified[\"ap_hi\"],df_modified[\"ap_lo\"])]\n",
    "\n",
    "df_modified.head()"
   ],
   "outputs": [
    {
     "output_type": "execute_result",
     "data": {
      "text/html": [
       "<div>\n",
       "<style scoped>\n",
       "    .dataframe tbody tr th:only-of-type {\n",
       "        vertical-align: middle;\n",
       "    }\n",
       "\n",
       "    .dataframe tbody tr th {\n",
       "        vertical-align: top;\n",
       "    }\n",
       "\n",
       "    .dataframe thead th {\n",
       "        text-align: right;\n",
       "    }\n",
       "</style>\n",
       "<table border=\"1\" class=\"dataframe\">\n",
       "  <thead>\n",
       "    <tr style=\"text-align: right;\">\n",
       "      <th></th>\n",
       "      <th>id</th>\n",
       "      <th>age</th>\n",
       "      <th>gender</th>\n",
       "      <th>height</th>\n",
       "      <th>weight</th>\n",
       "      <th>ap_hi</th>\n",
       "      <th>ap_lo</th>\n",
       "      <th>cholesterol</th>\n",
       "      <th>gluc</th>\n",
       "      <th>smoke</th>\n",
       "      <th>alco</th>\n",
       "      <th>active</th>\n",
       "      <th>cardio</th>\n",
       "      <th>BMI</th>\n",
       "      <th>BMI Category</th>\n",
       "      <th>Blood pressure</th>\n",
       "    </tr>\n",
       "  </thead>\n",
       "  <tbody>\n",
       "    <tr>\n",
       "      <th>0</th>\n",
       "      <td>0</td>\n",
       "      <td>18393</td>\n",
       "      <td>2</td>\n",
       "      <td>168</td>\n",
       "      <td>62.0</td>\n",
       "      <td>110</td>\n",
       "      <td>80</td>\n",
       "      <td>1</td>\n",
       "      <td>1</td>\n",
       "      <td>0</td>\n",
       "      <td>0</td>\n",
       "      <td>1</td>\n",
       "      <td>0</td>\n",
       "      <td>21.967120</td>\n",
       "      <td>normal range</td>\n",
       "      <td>Stage 1 hypertension</td>\n",
       "    </tr>\n",
       "    <tr>\n",
       "      <th>1</th>\n",
       "      <td>1</td>\n",
       "      <td>20228</td>\n",
       "      <td>1</td>\n",
       "      <td>156</td>\n",
       "      <td>85.0</td>\n",
       "      <td>140</td>\n",
       "      <td>90</td>\n",
       "      <td>3</td>\n",
       "      <td>1</td>\n",
       "      <td>0</td>\n",
       "      <td>0</td>\n",
       "      <td>1</td>\n",
       "      <td>1</td>\n",
       "      <td>34.927679</td>\n",
       "      <td>obese (class I)</td>\n",
       "      <td>Stage 2 hypertension</td>\n",
       "    </tr>\n",
       "    <tr>\n",
       "      <th>2</th>\n",
       "      <td>2</td>\n",
       "      <td>18857</td>\n",
       "      <td>1</td>\n",
       "      <td>165</td>\n",
       "      <td>64.0</td>\n",
       "      <td>130</td>\n",
       "      <td>70</td>\n",
       "      <td>3</td>\n",
       "      <td>1</td>\n",
       "      <td>0</td>\n",
       "      <td>0</td>\n",
       "      <td>0</td>\n",
       "      <td>1</td>\n",
       "      <td>23.507805</td>\n",
       "      <td>normal range</td>\n",
       "      <td>Stage 1 hypertension</td>\n",
       "    </tr>\n",
       "    <tr>\n",
       "      <th>3</th>\n",
       "      <td>3</td>\n",
       "      <td>17623</td>\n",
       "      <td>2</td>\n",
       "      <td>169</td>\n",
       "      <td>82.0</td>\n",
       "      <td>150</td>\n",
       "      <td>100</td>\n",
       "      <td>1</td>\n",
       "      <td>1</td>\n",
       "      <td>0</td>\n",
       "      <td>0</td>\n",
       "      <td>1</td>\n",
       "      <td>1</td>\n",
       "      <td>28.710479</td>\n",
       "      <td>overweight</td>\n",
       "      <td>Stage 2 hypertension</td>\n",
       "    </tr>\n",
       "    <tr>\n",
       "      <th>4</th>\n",
       "      <td>4</td>\n",
       "      <td>17474</td>\n",
       "      <td>1</td>\n",
       "      <td>156</td>\n",
       "      <td>56.0</td>\n",
       "      <td>100</td>\n",
       "      <td>60</td>\n",
       "      <td>1</td>\n",
       "      <td>1</td>\n",
       "      <td>0</td>\n",
       "      <td>0</td>\n",
       "      <td>0</td>\n",
       "      <td>0</td>\n",
       "      <td>23.011177</td>\n",
       "      <td>normal range</td>\n",
       "      <td>Healthy</td>\n",
       "    </tr>\n",
       "  </tbody>\n",
       "</table>\n",
       "</div>"
      ],
      "text/plain": [
       "   id    age  gender  height  weight  ap_hi  ap_lo  cholesterol  gluc  smoke  \\\n",
       "0   0  18393       2     168    62.0    110     80            1     1      0   \n",
       "1   1  20228       1     156    85.0    140     90            3     1      0   \n",
       "2   2  18857       1     165    64.0    130     70            3     1      0   \n",
       "3   3  17623       2     169    82.0    150    100            1     1      0   \n",
       "4   4  17474       1     156    56.0    100     60            1     1      0   \n",
       "\n",
       "   alco  active  cardio        BMI     BMI Category        Blood pressure  \n",
       "0     0       1       0  21.967120     normal range  Stage 1 hypertension  \n",
       "1     0       1       1  34.927679  obese (class I)  Stage 2 hypertension  \n",
       "2     0       0       1  23.507805     normal range  Stage 1 hypertension  \n",
       "3     0       1       1  28.710479       overweight  Stage 2 hypertension  \n",
       "4     0       0       0  23.011177     normal range               Healthy  "
      ]
     },
     "metadata": {},
     "execution_count": 14
    }
   ],
   "metadata": {}
  },
  {
   "cell_type": "markdown",
   "source": [
    "# 2.2.0 Data visualization"
   ],
   "metadata": {}
  },
  {
   "cell_type": "code",
   "execution_count": 15,
   "source": [
    "fig,ax = plt.subplots(4,2,figsize=(8,15))\n",
    "\n",
    "# Cardio vs age \n",
    "df_cardio_age=df_modified[[\"cardio\",\"age\"]]\n",
    "df_cardio_age[\"age\"]=df_cardio_age[\"age\"]//365\n",
    "df_cardio_age = pd.DataFrame(df_cardio_age.groupby([\"age\",\"cardio\"]).size()).reset_index().rename(columns={0:\"Number of patients\"})\n",
    "\n",
    "sns.lineplot(x=\"age\",y=\"Number of patients\",data=df_cardio_age,hue=\"cardio\",ax=ax[0,0])\n",
    "\n",
    "# Cardio vs BMI \n",
    "df_cardio_BMI=pd.DataFrame(df_modified[[\"cardio\",\"BMI Category\"]].groupby([\"cardio\",\"BMI Category\"]).size()).reset_index().rename(columns={0:\"Number of patients\"})\n",
    "\n",
    "sns.barplot(x=\"BMI Category\", y=\"Number of patients\", data=df_cardio_BMI,hue=\"cardio\",ax=ax[0,1])\n",
    "\n",
    "\n",
    "# Cardio vs Blood pressure \n",
    "df_cardio_BP=pd.DataFrame(df_modified[[\"cardio\",\"Blood pressure\"]].groupby([\"cardio\",\"Blood pressure\"]).size()).reset_index().rename(columns={0:\"Number of patients\"})\n",
    "\n",
    "sns.barplot(x=\"Blood pressure\", y=\"Number of patients\", data=df_cardio_BP,hue=\"cardio\",ax=ax[1,0])\n",
    "\n",
    "\n",
    "# Cardio vs Cholesterol type \n",
    "df_cardio_CT=pd.DataFrame(df_modified[[\"cardio\",\"cholesterol\"]].groupby([\"cardio\",\"cholesterol\"]).size()).reset_index().rename(columns={0:\"Number of patients\"})\n",
    "\n",
    "sns.barplot(x=\"cholesterol\", y=\"Number of patients\", data=df_cardio_CT,hue=\"cardio\",ax=ax[1,1])\n",
    "\n",
    "# cardio vs smoker\n",
    "df_cardio_smoking=pd.DataFrame(df_modified[[\"cardio\",\"smoke\"]].groupby([\"cardio\",\"smoke\"]).size()).reset_index().rename(columns={0:\"Number of patients\"})\n",
    "\n",
    "sns.barplot(x=\"smoke\", y=\"Number of patients\", data=df_cardio_smoking,hue=\"cardio\",ax=ax[2,0])\n",
    "\n",
    "# cardio vs alcohool \n",
    "df_cardio_alcohol=pd.DataFrame(df_modified[[\"cardio\",\"alco\"]].groupby([\"cardio\",\"alco\"]).size()).reset_index().rename(columns={0:\"Number of patients\"})\n",
    "\n",
    "sns.barplot(x=\"alco\", y=\"Number of patients\", data=df_cardio_alcohol,hue=\"cardio\",ax=ax[2,1])\n",
    "\n",
    "# cardio vs active \n",
    "df_cardio_activity=pd.DataFrame(df_modified[[\"cardio\",\"active\"]].groupby([\"cardio\",\"active\"]).size()).reset_index().rename(columns={0:\"Number of patients\"})\n",
    "\n",
    "sns.barplot(x=\"active\", y=\"Number of patients\", data=df_cardio_activity,hue=\"cardio\",ax=ax[3,0])\n",
    "\n",
    "# cardio vs glucose\n",
    "df_cardio_gluc=pd.DataFrame(df_modified[[\"cardio\",\"gluc\"]].groupby([\"cardio\",\"gluc\"]).size()).reset_index().rename(columns={0:\"Number of patients\"})\n",
    "\n",
    "sns.barplot(x=\"gluc\", y=\"Number of patients\", data=df_cardio_gluc,hue=\"cardio\",ax=ax[3,1])"
   ],
   "outputs": [
    {
     "output_type": "stream",
     "name": "stderr",
     "text": [
      "/var/folders/q8/kg4v5mr16fv47tpsjyg28zlc0000gn/T/ipykernel_68648/501466190.py:5: SettingWithCopyWarning: \n",
      "A value is trying to be set on a copy of a slice from a DataFrame.\n",
      "Try using .loc[row_indexer,col_indexer] = value instead\n",
      "\n",
      "See the caveats in the documentation: https://pandas.pydata.org/pandas-docs/stable/user_guide/indexing.html#returning-a-view-versus-a-copy\n",
      "  df_cardio_age[\"age\"]=df_cardio_age[\"age\"]//365\n"
     ]
    },
    {
     "output_type": "execute_result",
     "data": {
      "text/plain": [
       "<AxesSubplot:xlabel='gluc', ylabel='Number of patients'>"
      ]
     },
     "metadata": {},
     "execution_count": 15
    },
    {
     "output_type": "display_data",
     "data": {
      "image/png": "[encoded data removed]",
      "text/plain": [
       "<Figure size 576x1080 with 8 Axes>"
      ]
     },
     "metadata": {
      "needs_background": "light"
     }
    }
   ],
   "metadata": {}
  },
  {
   "cell_type": "markdown",
   "source": [
    "# 2.2.1 Correlation visualization"
   ],
   "metadata": {}
  },
  {
   "cell_type": "code",
   "execution_count": 16,
   "source": [
    "plt.figure(figsize=(16, 6))\n",
    "sns.heatmap(df_modified.corr(), vmin=-1, vmax=1, annot=True)"
   ],
   "outputs": [
    {
     "output_type": "execute_result",
     "data": {
      "text/plain": [
       "<AxesSubplot:>"
      ]
     },
     "metadata": {},
     "execution_count": 16
    },
    {
     "output_type": "display_data",
     "data": {
      "image/png": "[encoded data removed]",
      "text/plain": [
       "<Figure size 1152x432 with 2 Axes>"
      ]
     },
     "metadata": {
      "needs_background": "light"
     }
    }
   ],
   "metadata": {}
  },
  {
   "cell_type": "code",
   "execution_count": 17,
   "source": [
    "#TODO:explain why they are correlated :\n",
    "# BMI and height \n",
    "# BMI and weight \n",
    "# smoke and alco\n",
    "# glucoz and cholesterol \n",
    "# height and gender \n",
    "# height and weight "
   ],
   "outputs": [],
   "metadata": {}
  },
  {
   "cell_type": "markdown",
   "source": [
    "# 2.3 Create 2 datasets"
   ],
   "metadata": {}
  },
  {
   "cell_type": "code",
   "execution_count": 18,
   "source": [
    "df_discrete = df_modified.drop([\"ap_hi\",\"ap_lo\",\"height\",\"weight\",\"BMI\"],axis=1)\n",
    "\n",
    "df_discrete.head()"
   ],
   "outputs": [
    {
     "output_type": "execute_result",
     "data": {
      "text/html": [
       "<div>\n",
       "<style scoped>\n",
       "    .dataframe tbody tr th:only-of-type {\n",
       "        vertical-align: middle;\n",
       "    }\n",
       "\n",
       "    .dataframe tbody tr th {\n",
       "        vertical-align: top;\n",
       "    }\n",
       "\n",
       "    .dataframe thead th {\n",
       "        text-align: right;\n",
       "    }\n",
       "</style>\n",
       "<table border=\"1\" class=\"dataframe\">\n",
       "  <thead>\n",
       "    <tr style=\"text-align: right;\">\n",
       "      <th></th>\n",
       "      <th>id</th>\n",
       "      <th>age</th>\n",
       "      <th>gender</th>\n",
       "      <th>cholesterol</th>\n",
       "      <th>gluc</th>\n",
       "      <th>smoke</th>\n",
       "      <th>alco</th>\n",
       "      <th>active</th>\n",
       "      <th>cardio</th>\n",
       "      <th>BMI Category</th>\n",
       "      <th>Blood pressure</th>\n",
       "    </tr>\n",
       "  </thead>\n",
       "  <tbody>\n",
       "    <tr>\n",
       "      <th>0</th>\n",
       "      <td>0</td>\n",
       "      <td>18393</td>\n",
       "      <td>2</td>\n",
       "      <td>1</td>\n",
       "      <td>1</td>\n",
       "      <td>0</td>\n",
       "      <td>0</td>\n",
       "      <td>1</td>\n",
       "      <td>0</td>\n",
       "      <td>normal range</td>\n",
       "      <td>Stage 1 hypertension</td>\n",
       "    </tr>\n",
       "    <tr>\n",
       "      <th>1</th>\n",
       "      <td>1</td>\n",
       "      <td>20228</td>\n",
       "      <td>1</td>\n",
       "      <td>3</td>\n",
       "      <td>1</td>\n",
       "      <td>0</td>\n",
       "      <td>0</td>\n",
       "      <td>1</td>\n",
       "      <td>1</td>\n",
       "      <td>obese (class I)</td>\n",
       "      <td>Stage 2 hypertension</td>\n",
       "    </tr>\n",
       "    <tr>\n",
       "      <th>2</th>\n",
       "      <td>2</td>\n",
       "      <td>18857</td>\n",
       "      <td>1</td>\n",
       "      <td>3</td>\n",
       "      <td>1</td>\n",
       "      <td>0</td>\n",
       "      <td>0</td>\n",
       "      <td>0</td>\n",
       "      <td>1</td>\n",
       "      <td>normal range</td>\n",
       "      <td>Stage 1 hypertension</td>\n",
       "    </tr>\n",
       "    <tr>\n",
       "      <th>3</th>\n",
       "      <td>3</td>\n",
       "      <td>17623</td>\n",
       "      <td>2</td>\n",
       "      <td>1</td>\n",
       "      <td>1</td>\n",
       "      <td>0</td>\n",
       "      <td>0</td>\n",
       "      <td>1</td>\n",
       "      <td>1</td>\n",
       "      <td>overweight</td>\n",
       "      <td>Stage 2 hypertension</td>\n",
       "    </tr>\n",
       "    <tr>\n",
       "      <th>4</th>\n",
       "      <td>4</td>\n",
       "      <td>17474</td>\n",
       "      <td>1</td>\n",
       "      <td>1</td>\n",
       "      <td>1</td>\n",
       "      <td>0</td>\n",
       "      <td>0</td>\n",
       "      <td>0</td>\n",
       "      <td>0</td>\n",
       "      <td>normal range</td>\n",
       "      <td>Healthy</td>\n",
       "    </tr>\n",
       "  </tbody>\n",
       "</table>\n",
       "</div>"
      ],
      "text/plain": [
       "   id    age  gender  cholesterol  gluc  smoke  alco  active  cardio  \\\n",
       "0   0  18393       2            1     1      0     0       1       0   \n",
       "1   1  20228       1            3     1      0     0       1       1   \n",
       "2   2  18857       1            3     1      0     0       0       1   \n",
       "3   3  17623       2            1     1      0     0       1       1   \n",
       "4   4  17474       1            1     1      0     0       0       0   \n",
       "\n",
       "      BMI Category        Blood pressure  \n",
       "0     normal range  Stage 1 hypertension  \n",
       "1  obese (class I)  Stage 2 hypertension  \n",
       "2     normal range  Stage 1 hypertension  \n",
       "3       overweight  Stage 2 hypertension  \n",
       "4     normal range               Healthy  "
      ]
     },
     "metadata": {},
     "execution_count": 18
    }
   ],
   "metadata": {}
  },
  {
   "cell_type": "code",
   "execution_count": 19,
   "source": [
    "df_discrete_onehot = pd.get_dummies(df_discrete, columns = [\"gender\", \"BMI Category\", \"Blood pressure\"], drop_first=True)\n",
    "\n",
    "df_discrete_onehot.head()"
   ],
   "outputs": [
    {
     "output_type": "execute_result",
     "data": {
      "text/html": [
       "<div>\n",
       "<style scoped>\n",
       "    .dataframe tbody tr th:only-of-type {\n",
       "        vertical-align: middle;\n",
       "    }\n",
       "\n",
       "    .dataframe tbody tr th {\n",
       "        vertical-align: top;\n",
       "    }\n",
       "\n",
       "    .dataframe thead th {\n",
       "        text-align: right;\n",
       "    }\n",
       "</style>\n",
       "<table border=\"1\" class=\"dataframe\">\n",
       "  <thead>\n",
       "    <tr style=\"text-align: right;\">\n",
       "      <th></th>\n",
       "      <th>id</th>\n",
       "      <th>age</th>\n",
       "      <th>cholesterol</th>\n",
       "      <th>gluc</th>\n",
       "      <th>smoke</th>\n",
       "      <th>alco</th>\n",
       "      <th>active</th>\n",
       "      <th>cardio</th>\n",
       "      <th>gender_2</th>\n",
       "      <th>BMI Category_obese (class I)</th>\n",
       "      <th>BMI Category_obese (class II)</th>\n",
       "      <th>BMI Category_obese (class III)</th>\n",
       "      <th>BMI Category_overweight</th>\n",
       "      <th>Blood pressure_Healthy</th>\n",
       "      <th>Blood pressure_Hypertension crisis</th>\n",
       "      <th>Blood pressure_Stage 1 hypertension</th>\n",
       "      <th>Blood pressure_Stage 2 hypertension</th>\n",
       "    </tr>\n",
       "  </thead>\n",
       "  <tbody>\n",
       "    <tr>\n",
       "      <th>0</th>\n",
       "      <td>0</td>\n",
       "      <td>18393</td>\n",
       "      <td>1</td>\n",
       "      <td>1</td>\n",
       "      <td>0</td>\n",
       "      <td>0</td>\n",
       "      <td>1</td>\n",
       "      <td>0</td>\n",
       "      <td>1</td>\n",
       "      <td>0</td>\n",
       "      <td>0</td>\n",
       "      <td>0</td>\n",
       "      <td>0</td>\n",
       "      <td>0</td>\n",
       "      <td>0</td>\n",
       "      <td>1</td>\n",
       "      <td>0</td>\n",
       "    </tr>\n",
       "    <tr>\n",
       "      <th>1</th>\n",
       "      <td>1</td>\n",
       "      <td>20228</td>\n",
       "      <td>3</td>\n",
       "      <td>1</td>\n",
       "      <td>0</td>\n",
       "      <td>0</td>\n",
       "      <td>1</td>\n",
       "      <td>1</td>\n",
       "      <td>0</td>\n",
       "      <td>1</td>\n",
       "      <td>0</td>\n",
       "      <td>0</td>\n",
       "      <td>0</td>\n",
       "      <td>0</td>\n",
       "      <td>0</td>\n",
       "      <td>0</td>\n",
       "      <td>1</td>\n",
       "    </tr>\n",
       "    <tr>\n",
       "      <th>2</th>\n",
       "      <td>2</td>\n",
       "      <td>18857</td>\n",
       "      <td>3</td>\n",
       "      <td>1</td>\n",
       "      <td>0</td>\n",
       "      <td>0</td>\n",
       "      <td>0</td>\n",
       "      <td>1</td>\n",
       "      <td>0</td>\n",
       "      <td>0</td>\n",
       "      <td>0</td>\n",
       "      <td>0</td>\n",
       "      <td>0</td>\n",
       "      <td>0</td>\n",
       "      <td>0</td>\n",
       "      <td>1</td>\n",
       "      <td>0</td>\n",
       "    </tr>\n",
       "    <tr>\n",
       "      <th>3</th>\n",
       "      <td>3</td>\n",
       "      <td>17623</td>\n",
       "      <td>1</td>\n",
       "      <td>1</td>\n",
       "      <td>0</td>\n",
       "      <td>0</td>\n",
       "      <td>1</td>\n",
       "      <td>1</td>\n",
       "      <td>1</td>\n",
       "      <td>0</td>\n",
       "      <td>0</td>\n",
       "      <td>0</td>\n",
       "      <td>1</td>\n",
       "      <td>0</td>\n",
       "      <td>0</td>\n",
       "      <td>0</td>\n",
       "      <td>1</td>\n",
       "    </tr>\n",
       "    <tr>\n",
       "      <th>4</th>\n",
       "      <td>4</td>\n",
       "      <td>17474</td>\n",
       "      <td>1</td>\n",
       "      <td>1</td>\n",
       "      <td>0</td>\n",
       "      <td>0</td>\n",
       "      <td>0</td>\n",
       "      <td>0</td>\n",
       "      <td>0</td>\n",
       "      <td>0</td>\n",
       "      <td>0</td>\n",
       "      <td>0</td>\n",
       "      <td>0</td>\n",
       "      <td>1</td>\n",
       "      <td>0</td>\n",
       "      <td>0</td>\n",
       "      <td>0</td>\n",
       "    </tr>\n",
       "  </tbody>\n",
       "</table>\n",
       "</div>"
      ],
      "text/plain": [
       "   id    age  cholesterol  gluc  smoke  alco  active  cardio  gender_2  \\\n",
       "0   0  18393            1     1      0     0       1       0         1   \n",
       "1   1  20228            3     1      0     0       1       1         0   \n",
       "2   2  18857            3     1      0     0       0       1         0   \n",
       "3   3  17623            1     1      0     0       1       1         1   \n",
       "4   4  17474            1     1      0     0       0       0         0   \n",
       "\n",
       "   BMI Category_obese (class I)  BMI Category_obese (class II)  \\\n",
       "0                             0                              0   \n",
       "1                             1                              0   \n",
       "2                             0                              0   \n",
       "3                             0                              0   \n",
       "4                             0                              0   \n",
       "\n",
       "   BMI Category_obese (class III)  BMI Category_overweight  \\\n",
       "0                               0                        0   \n",
       "1                               0                        0   \n",
       "2                               0                        0   \n",
       "3                               0                        1   \n",
       "4                               0                        0   \n",
       "\n",
       "   Blood pressure_Healthy  Blood pressure_Hypertension crisis  \\\n",
       "0                       0                                   0   \n",
       "1                       0                                   0   \n",
       "2                       0                                   0   \n",
       "3                       0                                   0   \n",
       "4                       1                                   0   \n",
       "\n",
       "   Blood pressure_Stage 1 hypertension  Blood pressure_Stage 2 hypertension  \n",
       "0                                    1                                    0  \n",
       "1                                    0                                    1  \n",
       "2                                    1                                    0  \n",
       "3                                    0                                    1  \n",
       "4                                    0                                    0  "
      ]
     },
     "metadata": {},
     "execution_count": 19
    }
   ],
   "metadata": {}
  },
  {
   "cell_type": "code",
   "execution_count": 20,
   "source": [
    "df_continuous = df_modified.drop([\"BMI Category\", \"Blood pressure\",\"height\",\"weight\"],axis=1)\n",
    "\n",
    "df_continuous.head()\n"
   ],
   "outputs": [
    {
     "output_type": "execute_result",
     "data": {
      "text/html": [
       "<div>\n",
       "<style scoped>\n",
       "    .dataframe tbody tr th:only-of-type {\n",
       "        vertical-align: middle;\n",
       "    }\n",
       "\n",
       "    .dataframe tbody tr th {\n",
       "        vertical-align: top;\n",
       "    }\n",
       "\n",
       "    .dataframe thead th {\n",
       "        text-align: right;\n",
       "    }\n",
       "</style>\n",
       "<table border=\"1\" class=\"dataframe\">\n",
       "  <thead>\n",
       "    <tr style=\"text-align: right;\">\n",
       "      <th></th>\n",
       "      <th>id</th>\n",
       "      <th>age</th>\n",
       "      <th>gender</th>\n",
       "      <th>ap_hi</th>\n",
       "      <th>ap_lo</th>\n",
       "      <th>cholesterol</th>\n",
       "      <th>gluc</th>\n",
       "      <th>smoke</th>\n",
       "      <th>alco</th>\n",
       "      <th>active</th>\n",
       "      <th>cardio</th>\n",
       "      <th>BMI</th>\n",
       "    </tr>\n",
       "  </thead>\n",
       "  <tbody>\n",
       "    <tr>\n",
       "      <th>0</th>\n",
       "      <td>0</td>\n",
       "      <td>18393</td>\n",
       "      <td>2</td>\n",
       "      <td>110</td>\n",
       "      <td>80</td>\n",
       "      <td>1</td>\n",
       "      <td>1</td>\n",
       "      <td>0</td>\n",
       "      <td>0</td>\n",
       "      <td>1</td>\n",
       "      <td>0</td>\n",
       "      <td>21.967120</td>\n",
       "    </tr>\n",
       "    <tr>\n",
       "      <th>1</th>\n",
       "      <td>1</td>\n",
       "      <td>20228</td>\n",
       "      <td>1</td>\n",
       "      <td>140</td>\n",
       "      <td>90</td>\n",
       "      <td>3</td>\n",
       "      <td>1</td>\n",
       "      <td>0</td>\n",
       "      <td>0</td>\n",
       "      <td>1</td>\n",
       "      <td>1</td>\n",
       "      <td>34.927679</td>\n",
       "    </tr>\n",
       "    <tr>\n",
       "      <th>2</th>\n",
       "      <td>2</td>\n",
       "      <td>18857</td>\n",
       "      <td>1</td>\n",
       "      <td>130</td>\n",
       "      <td>70</td>\n",
       "      <td>3</td>\n",
       "      <td>1</td>\n",
       "      <td>0</td>\n",
       "      <td>0</td>\n",
       "      <td>0</td>\n",
       "      <td>1</td>\n",
       "      <td>23.507805</td>\n",
       "    </tr>\n",
       "    <tr>\n",
       "      <th>3</th>\n",
       "      <td>3</td>\n",
       "      <td>17623</td>\n",
       "      <td>2</td>\n",
       "      <td>150</td>\n",
       "      <td>100</td>\n",
       "      <td>1</td>\n",
       "      <td>1</td>\n",
       "      <td>0</td>\n",
       "      <td>0</td>\n",
       "      <td>1</td>\n",
       "      <td>1</td>\n",
       "      <td>28.710479</td>\n",
       "    </tr>\n",
       "    <tr>\n",
       "      <th>4</th>\n",
       "      <td>4</td>\n",
       "      <td>17474</td>\n",
       "      <td>1</td>\n",
       "      <td>100</td>\n",
       "      <td>60</td>\n",
       "      <td>1</td>\n",
       "      <td>1</td>\n",
       "      <td>0</td>\n",
       "      <td>0</td>\n",
       "      <td>0</td>\n",
       "      <td>0</td>\n",
       "      <td>23.011177</td>\n",
       "    </tr>\n",
       "  </tbody>\n",
       "</table>\n",
       "</div>"
      ],
      "text/plain": [
       "   id    age  gender  ap_hi  ap_lo  cholesterol  gluc  smoke  alco  active  \\\n",
       "0   0  18393       2    110     80            1     1      0     0       1   \n",
       "1   1  20228       1    140     90            3     1      0     0       1   \n",
       "2   2  18857       1    130     70            3     1      0     0       0   \n",
       "3   3  17623       2    150    100            1     1      0     0       1   \n",
       "4   4  17474       1    100     60            1     1      0     0       0   \n",
       "\n",
       "   cardio        BMI  \n",
       "0       0  21.967120  \n",
       "1       1  34.927679  \n",
       "2       1  23.507805  \n",
       "3       1  28.710479  \n",
       "4       0  23.011177  "
      ]
     },
     "metadata": {},
     "execution_count": 20
    }
   ],
   "metadata": {}
  },
  {
   "cell_type": "code",
   "execution_count": 21,
   "source": [
    "df_continuous_onehot = pd.get_dummies(df_continuous,columns=[\"gender\"], drop_first=True)\n",
    "\n",
    "df_continuous_onehot.head()\n"
   ],
   "outputs": [
    {
     "output_type": "execute_result",
     "data": {
      "text/html": [
       "<div>\n",
       "<style scoped>\n",
       "    .dataframe tbody tr th:only-of-type {\n",
       "        vertical-align: middle;\n",
       "    }\n",
       "\n",
       "    .dataframe tbody tr th {\n",
       "        vertical-align: top;\n",
       "    }\n",
       "\n",
       "    .dataframe thead th {\n",
       "        text-align: right;\n",
       "    }\n",
       "</style>\n",
       "<table border=\"1\" class=\"dataframe\">\n",
       "  <thead>\n",
       "    <tr style=\"text-align: right;\">\n",
       "      <th></th>\n",
       "      <th>id</th>\n",
       "      <th>age</th>\n",
       "      <th>ap_hi</th>\n",
       "      <th>ap_lo</th>\n",
       "      <th>cholesterol</th>\n",
       "      <th>gluc</th>\n",
       "      <th>smoke</th>\n",
       "      <th>alco</th>\n",
       "      <th>active</th>\n",
       "      <th>cardio</th>\n",
       "      <th>BMI</th>\n",
       "      <th>gender_2</th>\n",
       "    </tr>\n",
       "  </thead>\n",
       "  <tbody>\n",
       "    <tr>\n",
       "      <th>0</th>\n",
       "      <td>0</td>\n",
       "      <td>18393</td>\n",
       "      <td>110</td>\n",
       "      <td>80</td>\n",
       "      <td>1</td>\n",
       "      <td>1</td>\n",
       "      <td>0</td>\n",
       "      <td>0</td>\n",
       "      <td>1</td>\n",
       "      <td>0</td>\n",
       "      <td>21.967120</td>\n",
       "      <td>1</td>\n",
       "    </tr>\n",
       "    <tr>\n",
       "      <th>1</th>\n",
       "      <td>1</td>\n",
       "      <td>20228</td>\n",
       "      <td>140</td>\n",
       "      <td>90</td>\n",
       "      <td>3</td>\n",
       "      <td>1</td>\n",
       "      <td>0</td>\n",
       "      <td>0</td>\n",
       "      <td>1</td>\n",
       "      <td>1</td>\n",
       "      <td>34.927679</td>\n",
       "      <td>0</td>\n",
       "    </tr>\n",
       "    <tr>\n",
       "      <th>2</th>\n",
       "      <td>2</td>\n",
       "      <td>18857</td>\n",
       "      <td>130</td>\n",
       "      <td>70</td>\n",
       "      <td>3</td>\n",
       "      <td>1</td>\n",
       "      <td>0</td>\n",
       "      <td>0</td>\n",
       "      <td>0</td>\n",
       "      <td>1</td>\n",
       "      <td>23.507805</td>\n",
       "      <td>0</td>\n",
       "    </tr>\n",
       "    <tr>\n",
       "      <th>3</th>\n",
       "      <td>3</td>\n",
       "      <td>17623</td>\n",
       "      <td>150</td>\n",
       "      <td>100</td>\n",
       "      <td>1</td>\n",
       "      <td>1</td>\n",
       "      <td>0</td>\n",
       "      <td>0</td>\n",
       "      <td>1</td>\n",
       "      <td>1</td>\n",
       "      <td>28.710479</td>\n",
       "      <td>1</td>\n",
       "    </tr>\n",
       "    <tr>\n",
       "      <th>4</th>\n",
       "      <td>4</td>\n",
       "      <td>17474</td>\n",
       "      <td>100</td>\n",
       "      <td>60</td>\n",
       "      <td>1</td>\n",
       "      <td>1</td>\n",
       "      <td>0</td>\n",
       "      <td>0</td>\n",
       "      <td>0</td>\n",
       "      <td>0</td>\n",
       "      <td>23.011177</td>\n",
       "      <td>0</td>\n",
       "    </tr>\n",
       "  </tbody>\n",
       "</table>\n",
       "</div>"
      ],
      "text/plain": [
       "   id    age  ap_hi  ap_lo  cholesterol  gluc  smoke  alco  active  cardio  \\\n",
       "0   0  18393    110     80            1     1      0     0       1       0   \n",
       "1   1  20228    140     90            3     1      0     0       1       1   \n",
       "2   2  18857    130     70            3     1      0     0       0       1   \n",
       "3   3  17623    150    100            1     1      0     0       1       1   \n",
       "4   4  17474    100     60            1     1      0     0       0       0   \n",
       "\n",
       "         BMI  gender_2  \n",
       "0  21.967120         1  \n",
       "1  34.927679         0  \n",
       "2  23.507805         0  \n",
       "3  28.710479         1  \n",
       "4  23.011177         0  "
      ]
     },
     "metadata": {},
     "execution_count": 21
    }
   ],
   "metadata": {}
  },
  {
   "cell_type": "markdown",
   "source": [
    "# 2.4 Chosing models "
   ],
   "metadata": {}
  },
  {
   "cell_type": "code",
   "execution_count": 22,
   "source": [
    "#TODO: Try : RandomForest,SVM,KNN,LogisticRegression"
   ],
   "outputs": [],
   "metadata": {}
  },
  {
   "cell_type": "code",
   "execution_count": 23,
   "source": [
    "# train test split \n",
    "from sklearn.model_selection import train_test_split\n",
    "\n",
    "#splitting data into X and y : discrete data\n",
    "X_d = df_discrete_onehot.drop(\"cardio\",axis = 1)\n",
    "y_d = df_discrete_onehot[[\"cardio\"]]\n",
    "\n",
    "#splitting data into X and y : continuous data\n",
    "X_c = df_continuous_onehot.drop(\"cardio\",axis = 1)\n",
    "y_c = df_continuous_onehot[[\"cardio\"]]\n",
    "\n",
    "#train validation test split : discrete data\n",
    "X_train_d,X_test_d,y_train_d,y_test_d = train_test_split(X_d,y_d,test_size=.4)\n",
    "X_val_d,X_test_d,y_val_d,y_test_d = train_test_split(X_test_d,y_test_d,test_size=.5)\n",
    "\n",
    "#train validation test split : continuous data\n",
    "X_train_c,X_test_c,y_train_c,y_test_c = train_test_split(X_c,y_c,test_size=.4)\n",
    "X_val_c,X_test_c,y_val_c,y_test_c = train_test_split(X_test_c,y_test_c,test_size=.5)\n",
    "\n",
    "#print the shapes\n",
    "print(\"Discrete dataframe : \")\n",
    "print(f\"Shapes of train data : {X_train_d.shape} and {y_train_d.shape}\")\n",
    "print(f\"Shapes of validation data : {X_val_d.shape} and {y_val_d.shape}\")\n",
    "print(f\"Shapes of test data : {X_test_d.shape} and {y_test_d.shape}\")\n",
    "\n",
    "print(\"\\nContinuous dataframe : \")\n",
    "print(f\"Shapes of train data : {X_train_c.shape} and {y_train_c.shape}\")\n",
    "print(f\"Shapes of validation data : {X_val_c.shape} and {y_val_c.shape}\")\n",
    "print(f\"Shapes of test data : {X_test_c.shape} and {y_test_c.shape}\")"
   ],
   "outputs": [
    {
     "output_type": "stream",
     "name": "stdout",
     "text": [
      "Discrete dataframe : \n",
      "Shapes of train data : (41398, 16) and (41398, 1)\n",
      "Shapes of validation data : (13799, 16) and (13799, 1)\n",
      "Shapes of test data : (13800, 16) and (13800, 1)\n",
      "\n",
      "Continuous dataframe : \n",
      "Shapes of train data : (41398, 11) and (41398, 1)\n",
      "Shapes of validation data : (13799, 11) and (13799, 1)\n",
      "Shapes of test data : (13800, 11) and (13800, 1)\n"
     ]
    }
   ],
   "metadata": {}
  },
  {
   "cell_type": "code",
   "execution_count": 26,
   "source": [
    "from sklearn.model_selection import GridSearchCV\n",
    "from sklearn.pipeline import Pipeline\n",
    "from sklearn.preprocessing import StandardScaler, MinMaxScaler\n",
    "from sklearn.neighbors import KNeighborsClassifier\n",
    "from sklearn.linear_model import LogisticRegression\n",
    "from sklearn.tree import DecisionTreeRegressor\n",
    "from sklearn.ensemble import RandomForestRegressor\n",
    "from sklearn.svm import SVC\n",
    "\n",
    "\n",
    "scaling_methods = [\"Normalization\",\"Standardization\"]\n",
    "model_names = ['DecisionTree','RandomForest','SVM','KNN','LogisticRegression']\n",
    "model_objects = [DecisionTreeRegressor(),RandomForestRegressor(),SVC(),KNeighborsClassifier(),LogisticRegression()]\n",
    "data = [[X_train_d,X_test_d,y_train_d,y_test_d],[X_train_c,X_test_c,y_train_c,y_test_c]]\n",
    "\n",
    "\n",
    "param_grids = []\n",
    "classifiers_data = [] \n",
    "\n",
    "#combining all scaling methods, models and different dataframes together\n",
    "for scaling_method in [\"Normalization\",\"Standardization\"]:\n",
    "    for (index,model_name),model_object in zip(enumerate(model_names),model_objects) : \n",
    "        for i,d in enumerate([[X_train_d,X_test_d,y_train_d,y_test_d],[X_train_c,X_test_c,y_train_c,y_test_c]]):\n",
    "            if i == 0 : \n",
    "                dataframe = \"Discrete\"\n",
    "            else : \n",
    "                dataframe = \"Continuous\"\n",
    "            classifiers_data.append([scaling_method,model_name,model_object,dataframe,d[0],d[1],d[2],d[3],index])\n",
    "\n",
    "pipeline_list = []\n",
    "classifiers = []\n",
    "\n",
    "#TRYING THINGS MANUALLY FIRST\n",
    "\n",
    "clf = [\"Normalization\",'DecisionTree',DecisionTreeRegressor(),\"Discrete\",X_train_c,X_test_c,y_train_c,y_test_c]\n",
    "\n",
    "scaler = MinMaxScaler() if clf[0]==\"Normalization\" else StandardScaler()\n",
    "model_name = clf[1]\n",
    "model_object = clf[2]\n",
    "X_train_data,X_test_data,y_train_data,y_test_data = clf[4],clf[5],clf[6],clf[7]\n",
    "param_grid = {\n",
    "                \"max_depth\": [2+ 2*i for i in range(5)],\n",
    "                \"min_samples\": [1+4*i for i in range(5)],\n",
    "                \"min_weight_fraction\": np.arange(0, 0.5, 0.1),\n",
    "            }\n",
    "\n",
    "#current_pipeline = Pipeline([(\"scaler\", scaler), \n",
    "#                                (model_name, model_object)])\n",
    "\n",
    "\n",
    "current_clf = GridSearchCV(\n",
    "                            estimator=Pipeline([(\"scaler\", MinMaxScaler()), \n",
    "                                                (\"KNN\", KNeighborsClassifier())]),\n",
    "                            cv=3,\n",
    "                            scoring=\"accuracy\",\n",
    "                            verbose=1,\n",
    "                            param_grid={ \"KNN__n_neighbors\": range(0,200,20) }\n",
    "                            )\n",
    "\n",
    "current_clf.fit(X_train_data,y_train_data)\n",
    "\n",
    "\n",
    "'''#looping through the classifier data \n",
    "for clf in classifiers_data : \n",
    "\n",
    "    scaler = MinMaxScaler() if clf[0]==\"Normalization\" else StandardScaler()\n",
    "    model_name = clf[1]\n",
    "    model_object = clf[2]\n",
    "    X_train_data,X_test_data,y_train_data,y_test_data = clf[4],clf[5],clf[6],clf[7]\n",
    "    param_grid_index = clf[-1]\n",
    "    param_grid = param_grid_list[param_grid_index]\n",
    "\n",
    "    current_pipeline = Pipeline([(\"scaler\", scaler), \n",
    "                                    (model_name, model_object)])\n",
    "    \n",
    "\n",
    "    current_clf = GridSearchCV(estimator = current_pipeline, \n",
    "                                param_grid = param_grid,\n",
    "                                cv = 5, \n",
    "                                scoring = \"recall\", \n",
    "                                n_jobs = -1,\n",
    "                                verbose = 1\n",
    "                            )\n",
    "\n",
    "    current_clf.fit(X_train_data,y_train_data)'''\n",
    "    \n",
    "\n",
    "\n",
    "\n"
   ],
   "outputs": [
    {
     "output_type": "stream",
     "name": "stdout",
     "text": [
      "Fitting 3 folds for each of 10 candidates, totalling 30 fits\n"
     ]
    },
    {
     "output_type": "stream",
     "name": "stderr",
     "text": [
      "/Users/Sami/.local/share/virtualenvs/Machine-Learning-SAMI-FATMI-6_LropDT/lib/python3.9/site-packages/sklearn/neighbors/_classification.py:198: DataConversionWarning: A column-vector y was passed when a 1d array was expected. Please change the shape of y to (n_samples,), for example using ravel().\n",
      "  return self._fit(X, y)\n"
     ]
    },
    {
     "output_type": "stream",
     "name": "stdout",
     "text": [
      "[CV] END .................................KNN__n_neighbors=0; total time=   0.3s\n",
      "[CV] END .................................KNN__n_neighbors=0; total time=   0.2s\n"
     ]
    },
    {
     "output_type": "stream",
     "name": "stderr",
     "text": [
      "/Users/Sami/.local/share/virtualenvs/Machine-Learning-SAMI-FATMI-6_LropDT/lib/python3.9/site-packages/sklearn/neighbors/_classification.py:198: DataConversionWarning: A column-vector y was passed when a 1d array was expected. Please change the shape of y to (n_samples,), for example using ravel().\n",
      "  return self._fit(X, y)\n",
      "/Users/Sami/.local/share/virtualenvs/Machine-Learning-SAMI-FATMI-6_LropDT/lib/python3.9/site-packages/sklearn/neighbors/_classification.py:198: DataConversionWarning: A column-vector y was passed when a 1d array was expected. Please change the shape of y to (n_samples,), for example using ravel().\n",
      "  return self._fit(X, y)\n"
     ]
    },
    {
     "output_type": "stream",
     "name": "stdout",
     "text": [
      "[CV] END .................................KNN__n_neighbors=0; total time=   0.1s\n"
     ]
    },
    {
     "output_type": "stream",
     "name": "stderr",
     "text": [
      "/Users/Sami/.local/share/virtualenvs/Machine-Learning-SAMI-FATMI-6_LropDT/lib/python3.9/site-packages/sklearn/neighbors/_classification.py:198: DataConversionWarning: A column-vector y was passed when a 1d array was expected. Please change the shape of y to (n_samples,), for example using ravel().\n",
      "  return self._fit(X, y)\n"
     ]
    },
    {
     "output_type": "stream",
     "name": "stdout",
     "text": [
      "[CV] END ................................KNN__n_neighbors=20; total time=   7.3s\n"
     ]
    },
    {
     "output_type": "stream",
     "name": "stderr",
     "text": [
      "/Users/Sami/.local/share/virtualenvs/Machine-Learning-SAMI-FATMI-6_LropDT/lib/python3.9/site-packages/sklearn/neighbors/_classification.py:198: DataConversionWarning: A column-vector y was passed when a 1d array was expected. Please change the shape of y to (n_samples,), for example using ravel().\n",
      "  return self._fit(X, y)\n"
     ]
    },
    {
     "output_type": "stream",
     "name": "stdout",
     "text": [
      "[CV] END ................................KNN__n_neighbors=20; total time=   5.5s\n"
     ]
    },
    {
     "output_type": "stream",
     "name": "stderr",
     "text": [
      "/Users/Sami/.local/share/virtualenvs/Machine-Learning-SAMI-FATMI-6_LropDT/lib/python3.9/site-packages/sklearn/neighbors/_classification.py:198: DataConversionWarning: A column-vector y was passed when a 1d array was expected. Please change the shape of y to (n_samples,), for example using ravel().\n",
      "  return self._fit(X, y)\n"
     ]
    },
    {
     "output_type": "stream",
     "name": "stdout",
     "text": [
      "[CV] END ................................KNN__n_neighbors=20; total time=  11.7s\n"
     ]
    },
    {
     "output_type": "stream",
     "name": "stderr",
     "text": [
      "/Users/Sami/.local/share/virtualenvs/Machine-Learning-SAMI-FATMI-6_LropDT/lib/python3.9/site-packages/sklearn/neighbors/_classification.py:198: DataConversionWarning: A column-vector y was passed when a 1d array was expected. Please change the shape of y to (n_samples,), for example using ravel().\n",
      "  return self._fit(X, y)\n"
     ]
    },
    {
     "output_type": "stream",
     "name": "stdout",
     "text": [
      "[CV] END ................................KNN__n_neighbors=40; total time=   6.4s\n"
     ]
    },
    {
     "output_type": "stream",
     "name": "stderr",
     "text": [
      "/Users/Sami/.local/share/virtualenvs/Machine-Learning-SAMI-FATMI-6_LropDT/lib/python3.9/site-packages/sklearn/neighbors/_classification.py:198: DataConversionWarning: A column-vector y was passed when a 1d array was expected. Please change the shape of y to (n_samples,), for example using ravel().\n",
      "  return self._fit(X, y)\n"
     ]
    },
    {
     "output_type": "stream",
     "name": "stdout",
     "text": [
      "[CV] END ................................KNN__n_neighbors=40; total time=   6.1s\n"
     ]
    },
    {
     "output_type": "stream",
     "name": "stderr",
     "text": [
      "/Users/Sami/.local/share/virtualenvs/Machine-Learning-SAMI-FATMI-6_LropDT/lib/python3.9/site-packages/sklearn/neighbors/_classification.py:198: DataConversionWarning: A column-vector y was passed when a 1d array was expected. Please change the shape of y to (n_samples,), for example using ravel().\n",
      "  return self._fit(X, y)\n"
     ]
    },
    {
     "output_type": "stream",
     "name": "stdout",
     "text": [
      "[CV] END ................................KNN__n_neighbors=40; total time=   6.4s\n"
     ]
    },
    {
     "output_type": "stream",
     "name": "stderr",
     "text": [
      "/Users/Sami/.local/share/virtualenvs/Machine-Learning-SAMI-FATMI-6_LropDT/lib/python3.9/site-packages/sklearn/neighbors/_classification.py:198: DataConversionWarning: A column-vector y was passed when a 1d array was expected. Please change the shape of y to (n_samples,), for example using ravel().\n",
      "  return self._fit(X, y)\n"
     ]
    },
    {
     "output_type": "stream",
     "name": "stdout",
     "text": [
      "[CV] END ................................KNN__n_neighbors=60; total time=   6.2s\n"
     ]
    },
    {
     "output_type": "stream",
     "name": "stderr",
     "text": [
      "/Users/Sami/.local/share/virtualenvs/Machine-Learning-SAMI-FATMI-6_LropDT/lib/python3.9/site-packages/sklearn/neighbors/_classification.py:198: DataConversionWarning: A column-vector y was passed when a 1d array was expected. Please change the shape of y to (n_samples,), for example using ravel().\n",
      "  return self._fit(X, y)\n"
     ]
    },
    {
     "output_type": "stream",
     "name": "stdout",
     "text": [
      "[CV] END ................................KNN__n_neighbors=60; total time=   6.5s\n"
     ]
    },
    {
     "output_type": "stream",
     "name": "stderr",
     "text": [
      "/Users/Sami/.local/share/virtualenvs/Machine-Learning-SAMI-FATMI-6_LropDT/lib/python3.9/site-packages/sklearn/neighbors/_classification.py:198: DataConversionWarning: A column-vector y was passed when a 1d array was expected. Please change the shape of y to (n_samples,), for example using ravel().\n",
      "  return self._fit(X, y)\n"
     ]
    },
    {
     "output_type": "stream",
     "name": "stdout",
     "text": [
      "[CV] END ................................KNN__n_neighbors=60; total time=   7.9s\n"
     ]
    },
    {
     "output_type": "stream",
     "name": "stderr",
     "text": [
      "/Users/Sami/.local/share/virtualenvs/Machine-Learning-SAMI-FATMI-6_LropDT/lib/python3.9/site-packages/sklearn/neighbors/_classification.py:198: DataConversionWarning: A column-vector y was passed when a 1d array was expected. Please change the shape of y to (n_samples,), for example using ravel().\n",
      "  return self._fit(X, y)\n"
     ]
    },
    {
     "output_type": "stream",
     "name": "stdout",
     "text": [
      "[CV] END ................................KNN__n_neighbors=80; total time=   6.1s\n"
     ]
    },
    {
     "output_type": "stream",
     "name": "stderr",
     "text": [
      "/Users/Sami/.local/share/virtualenvs/Machine-Learning-SAMI-FATMI-6_LropDT/lib/python3.9/site-packages/sklearn/neighbors/_classification.py:198: DataConversionWarning: A column-vector y was passed when a 1d array was expected. Please change the shape of y to (n_samples,), for example using ravel().\n",
      "  return self._fit(X, y)\n"
     ]
    },
    {
     "output_type": "stream",
     "name": "stdout",
     "text": [
      "[CV] END ................................KNN__n_neighbors=80; total time=   7.9s\n"
     ]
    },
    {
     "output_type": "stream",
     "name": "stderr",
     "text": [
      "/Users/Sami/.local/share/virtualenvs/Machine-Learning-SAMI-FATMI-6_LropDT/lib/python3.9/site-packages/sklearn/neighbors/_classification.py:198: DataConversionWarning: A column-vector y was passed when a 1d array was expected. Please change the shape of y to (n_samples,), for example using ravel().\n",
      "  return self._fit(X, y)\n"
     ]
    },
    {
     "output_type": "stream",
     "name": "stdout",
     "text": [
      "[CV] END ................................KNN__n_neighbors=80; total time=   7.9s\n"
     ]
    },
    {
     "output_type": "stream",
     "name": "stderr",
     "text": [
      "/Users/Sami/.local/share/virtualenvs/Machine-Learning-SAMI-FATMI-6_LropDT/lib/python3.9/site-packages/sklearn/neighbors/_classification.py:198: DataConversionWarning: A column-vector y was passed when a 1d array was expected. Please change the shape of y to (n_samples,), for example using ravel().\n",
      "  return self._fit(X, y)\n"
     ]
    },
    {
     "output_type": "stream",
     "name": "stdout",
     "text": [
      "[CV] END ...............................KNN__n_neighbors=100; total time=   7.2s\n"
     ]
    },
    {
     "output_type": "stream",
     "name": "stderr",
     "text": [
      "/Users/Sami/.local/share/virtualenvs/Machine-Learning-SAMI-FATMI-6_LropDT/lib/python3.9/site-packages/sklearn/neighbors/_classification.py:198: DataConversionWarning: A column-vector y was passed when a 1d array was expected. Please change the shape of y to (n_samples,), for example using ravel().\n",
      "  return self._fit(X, y)\n"
     ]
    },
    {
     "output_type": "stream",
     "name": "stdout",
     "text": [
      "[CV] END ...............................KNN__n_neighbors=100; total time=   7.1s\n"
     ]
    },
    {
     "output_type": "stream",
     "name": "stderr",
     "text": [
      "/Users/Sami/.local/share/virtualenvs/Machine-Learning-SAMI-FATMI-6_LropDT/lib/python3.9/site-packages/sklearn/neighbors/_classification.py:198: DataConversionWarning: A column-vector y was passed when a 1d array was expected. Please change the shape of y to (n_samples,), for example using ravel().\n",
      "  return self._fit(X, y)\n"
     ]
    },
    {
     "output_type": "stream",
     "name": "stdout",
     "text": [
      "[CV] END ...............................KNN__n_neighbors=100; total time=   8.2s\n"
     ]
    },
    {
     "output_type": "stream",
     "name": "stderr",
     "text": [
      "/Users/Sami/.local/share/virtualenvs/Machine-Learning-SAMI-FATMI-6_LropDT/lib/python3.9/site-packages/sklearn/neighbors/_classification.py:198: DataConversionWarning: A column-vector y was passed when a 1d array was expected. Please change the shape of y to (n_samples,), for example using ravel().\n",
      "  return self._fit(X, y)\n"
     ]
    },
    {
     "output_type": "stream",
     "name": "stdout",
     "text": [
      "[CV] END ...............................KNN__n_neighbors=120; total time=   6.3s\n"
     ]
    },
    {
     "output_type": "stream",
     "name": "stderr",
     "text": [
      "/Users/Sami/.local/share/virtualenvs/Machine-Learning-SAMI-FATMI-6_LropDT/lib/python3.9/site-packages/sklearn/neighbors/_classification.py:198: DataConversionWarning: A column-vector y was passed when a 1d array was expected. Please change the shape of y to (n_samples,), for example using ravel().\n",
      "  return self._fit(X, y)\n"
     ]
    },
    {
     "output_type": "stream",
     "name": "stdout",
     "text": [
      "[CV] END ...............................KNN__n_neighbors=120; total time=   8.1s\n"
     ]
    },
    {
     "output_type": "stream",
     "name": "stderr",
     "text": [
      "/Users/Sami/.local/share/virtualenvs/Machine-Learning-SAMI-FATMI-6_LropDT/lib/python3.9/site-packages/sklearn/neighbors/_classification.py:198: DataConversionWarning: A column-vector y was passed when a 1d array was expected. Please change the shape of y to (n_samples,), for example using ravel().\n",
      "  return self._fit(X, y)\n"
     ]
    },
    {
     "output_type": "stream",
     "name": "stdout",
     "text": [
      "[CV] END ...............................KNN__n_neighbors=120; total time=   8.0s\n"
     ]
    },
    {
     "output_type": "stream",
     "name": "stderr",
     "text": [
      "/Users/Sami/.local/share/virtualenvs/Machine-Learning-SAMI-FATMI-6_LropDT/lib/python3.9/site-packages/sklearn/neighbors/_classification.py:198: DataConversionWarning: A column-vector y was passed when a 1d array was expected. Please change the shape of y to (n_samples,), for example using ravel().\n",
      "  return self._fit(X, y)\n"
     ]
    },
    {
     "output_type": "stream",
     "name": "stdout",
     "text": [
      "[CV] END ...............................KNN__n_neighbors=140; total time=   7.3s\n"
     ]
    },
    {
     "output_type": "stream",
     "name": "stderr",
     "text": [
      "/Users/Sami/.local/share/virtualenvs/Machine-Learning-SAMI-FATMI-6_LropDT/lib/python3.9/site-packages/sklearn/neighbors/_classification.py:198: DataConversionWarning: A column-vector y was passed when a 1d array was expected. Please change the shape of y to (n_samples,), for example using ravel().\n",
      "  return self._fit(X, y)\n"
     ]
    },
    {
     "output_type": "stream",
     "name": "stdout",
     "text": [
      "[CV] END ...............................KNN__n_neighbors=140; total time=   8.1s\n"
     ]
    },
    {
     "output_type": "stream",
     "name": "stderr",
     "text": [
      "/Users/Sami/.local/share/virtualenvs/Machine-Learning-SAMI-FATMI-6_LropDT/lib/python3.9/site-packages/sklearn/neighbors/_classification.py:198: DataConversionWarning: A column-vector y was passed when a 1d array was expected. Please change the shape of y to (n_samples,), for example using ravel().\n",
      "  return self._fit(X, y)\n"
     ]
    },
    {
     "output_type": "stream",
     "name": "stdout",
     "text": [
      "[CV] END ...............................KNN__n_neighbors=140; total time=   9.1s\n"
     ]
    },
    {
     "output_type": "stream",
     "name": "stderr",
     "text": [
      "/Users/Sami/.local/share/virtualenvs/Machine-Learning-SAMI-FATMI-6_LropDT/lib/python3.9/site-packages/sklearn/neighbors/_classification.py:198: DataConversionWarning: A column-vector y was passed when a 1d array was expected. Please change the shape of y to (n_samples,), for example using ravel().\n",
      "  return self._fit(X, y)\n"
     ]
    },
    {
     "output_type": "stream",
     "name": "stdout",
     "text": [
      "[CV] END ...............................KNN__n_neighbors=160; total time=   7.0s\n"
     ]
    },
    {
     "output_type": "stream",
     "name": "stderr",
     "text": [
      "/Users/Sami/.local/share/virtualenvs/Machine-Learning-SAMI-FATMI-6_LropDT/lib/python3.9/site-packages/sklearn/neighbors/_classification.py:198: DataConversionWarning: A column-vector y was passed when a 1d array was expected. Please change the shape of y to (n_samples,), for example using ravel().\n",
      "  return self._fit(X, y)\n"
     ]
    },
    {
     "output_type": "stream",
     "name": "stdout",
     "text": [
      "[CV] END ...............................KNN__n_neighbors=160; total time=   9.1s\n"
     ]
    },
    {
     "output_type": "stream",
     "name": "stderr",
     "text": [
      "/Users/Sami/.local/share/virtualenvs/Machine-Learning-SAMI-FATMI-6_LropDT/lib/python3.9/site-packages/sklearn/neighbors/_classification.py:198: DataConversionWarning: A column-vector y was passed when a 1d array was expected. Please change the shape of y to (n_samples,), for example using ravel().\n",
      "  return self._fit(X, y)\n"
     ]
    },
    {
     "output_type": "stream",
     "name": "stdout",
     "text": [
      "[CV] END ...............................KNN__n_neighbors=160; total time=   9.0s\n"
     ]
    },
    {
     "output_type": "stream",
     "name": "stderr",
     "text": [
      "/Users/Sami/.local/share/virtualenvs/Machine-Learning-SAMI-FATMI-6_LropDT/lib/python3.9/site-packages/sklearn/neighbors/_classification.py:198: DataConversionWarning: A column-vector y was passed when a 1d array was expected. Please change the shape of y to (n_samples,), for example using ravel().\n",
      "  return self._fit(X, y)\n"
     ]
    },
    {
     "output_type": "stream",
     "name": "stdout",
     "text": [
      "[CV] END ...............................KNN__n_neighbors=180; total time=   9.2s\n"
     ]
    },
    {
     "output_type": "stream",
     "name": "stderr",
     "text": [
      "/Users/Sami/.local/share/virtualenvs/Machine-Learning-SAMI-FATMI-6_LropDT/lib/python3.9/site-packages/sklearn/neighbors/_classification.py:198: DataConversionWarning: A column-vector y was passed when a 1d array was expected. Please change the shape of y to (n_samples,), for example using ravel().\n",
      "  return self._fit(X, y)\n"
     ]
    },
    {
     "output_type": "stream",
     "name": "stdout",
     "text": [
      "[CV] END ...............................KNN__n_neighbors=180; total time=   9.6s\n"
     ]
    },
    {
     "output_type": "stream",
     "name": "stderr",
     "text": [
      "/Users/Sami/.local/share/virtualenvs/Machine-Learning-SAMI-FATMI-6_LropDT/lib/python3.9/site-packages/sklearn/neighbors/_classification.py:198: DataConversionWarning: A column-vector y was passed when a 1d array was expected. Please change the shape of y to (n_samples,), for example using ravel().\n",
      "  return self._fit(X, y)\n"
     ]
    },
    {
     "output_type": "stream",
     "name": "stdout",
     "text": [
      "[CV] END ...............................KNN__n_neighbors=180; total time=  10.5s\n"
     ]
    },
    {
     "output_type": "stream",
     "name": "stderr",
     "text": [
      "/Users/Sami/.local/share/virtualenvs/Machine-Learning-SAMI-FATMI-6_LropDT/lib/python3.9/site-packages/sklearn/model_selection/_validation.py:372: FitFailedWarning: \n",
      "3 fits failed out of a total of 30.\n",
      "The score on these train-test partitions for these parameters will be set to nan.\n",
      "If these failures are not expected, you can try to debug them by setting error_score='raise'.\n",
      "\n",
      "Below are more details about the failures:\n",
      "--------------------------------------------------------------------------------\n",
      "3 fits failed with the following error:\n",
      "Traceback (most recent call last):\n",
      "  File \"/Users/Sami/.local/share/virtualenvs/Machine-Learning-SAMI-FATMI-6_LropDT/lib/python3.9/site-packages/sklearn/model_selection/_validation.py\", line 680, in _fit_and_score\n",
      "    estimator.fit(X_train, y_train, **fit_params)\n",
      "  File \"/Users/Sami/.local/share/virtualenvs/Machine-Learning-SAMI-FATMI-6_LropDT/lib/python3.9/site-packages/sklearn/pipeline.py\", line 394, in fit\n",
      "    self._final_estimator.fit(Xt, y, **fit_params_last_step)\n",
      "  File \"/Users/Sami/.local/share/virtualenvs/Machine-Learning-SAMI-FATMI-6_LropDT/lib/python3.9/site-packages/sklearn/neighbors/_classification.py\", line 198, in fit\n",
      "    return self._fit(X, y)\n",
      "  File \"/Users/Sami/.local/share/virtualenvs/Machine-Learning-SAMI-FATMI-6_LropDT/lib/python3.9/site-packages/sklearn/neighbors/_base.py\", line 569, in _fit\n",
      "    raise ValueError(\"Expected n_neighbors > 0. Got %d\" % self.n_neighbors)\n",
      "ValueError: Expected n_neighbors > 0. Got 0\n",
      "\n",
      "  warnings.warn(some_fits_failed_message, FitFailedWarning)\n",
      "/Users/Sami/.local/share/virtualenvs/Machine-Learning-SAMI-FATMI-6_LropDT/lib/python3.9/site-packages/sklearn/model_selection/_search.py:969: UserWarning: One or more of the test scores are non-finite: [       nan 0.70604851 0.70394693 0.7023044  0.69971971 0.6976423\n",
      " 0.69532339 0.69235221 0.69068546 0.68904289]\n",
      "  warnings.warn(\n",
      "/Users/Sami/.local/share/virtualenvs/Machine-Learning-SAMI-FATMI-6_LropDT/lib/python3.9/site-packages/sklearn/neighbors/_classification.py:198: DataConversionWarning: A column-vector y was passed when a 1d array was expected. Please change the shape of y to (n_samples,), for example using ravel().\n",
      "  return self._fit(X, y)\n"
     ]
    },
    {
     "output_type": "execute_result",
     "data": {
      "text/plain": [
       "'#looping through the classifier data \\nfor clf in classifiers_data : \\n\\n    scaler = MinMaxScaler() if clf[0]==\"Normalization\" else StandardScaler()\\n    model_name = clf[1]\\n    model_object = clf[2]\\n    X_train_data,X_test_data,y_train_data,y_test_data = clf[4],clf[5],clf[6],clf[7]\\n    param_grid_index = clf[-1]\\n    param_grid = param_grid_list[param_grid_index]\\n\\n    current_pipeline = Pipeline([(\"scaler\", scaler), \\n                                    (model_name, model_object)])\\n    \\n\\n    current_clf = GridSearchCV(estimator = current_pipeline, \\n                                param_grid = param_grid,\\n                                cv = 5, \\n                                scoring = \"recall\", \\n                                n_jobs = -1,\\n                                verbose = 1\\n                            )\\n\\n    current_clf.fit(X_train_data,y_train_data)'"
      ]
     },
     "metadata": {},
     "execution_count": 26
    }
   ],
   "metadata": {}
  },
  {
   "cell_type": "code",
   "execution_count": 25,
   "source": [
    "current_clf.estimator.get_params().keys()"
   ],
   "outputs": [
    {
     "output_type": "execute_result",
     "data": {
      "text/plain": [
       "dict_keys(['memory', 'steps', 'verbose', 'scaler', 'KNN', 'scaler__clip', 'scaler__copy', 'scaler__feature_range', 'KNN__algorithm', 'KNN__leaf_size', 'KNN__metric', 'KNN__metric_params', 'KNN__n_jobs', 'KNN__n_neighbors', 'KNN__p', 'KNN__weights'])"
      ]
     },
     "metadata": {},
     "execution_count": 25
    }
   ],
   "metadata": {}
  },
  {
   "cell_type": "code",
   "execution_count": 29,
   "source": [
    "current_clf.best_estimator_.get_params()"
   ],
   "outputs": [
    {
     "output_type": "execute_result",
     "data": {
      "text/plain": [
       "{'memory': None,\n",
       " 'steps': [('scaler', MinMaxScaler()),\n",
       "  ('KNN', KNeighborsClassifier(n_neighbors=20))],\n",
       " 'verbose': False,\n",
       " 'scaler': MinMaxScaler(),\n",
       " 'KNN': KNeighborsClassifier(n_neighbors=20),\n",
       " 'scaler__clip': False,\n",
       " 'scaler__copy': True,\n",
       " 'scaler__feature_range': (0, 1),\n",
       " 'KNN__algorithm': 'auto',\n",
       " 'KNN__leaf_size': 30,\n",
       " 'KNN__metric': 'minkowski',\n",
       " 'KNN__metric_params': None,\n",
       " 'KNN__n_jobs': None,\n",
       " 'KNN__n_neighbors': 20,\n",
       " 'KNN__p': 2,\n",
       " 'KNN__weights': 'uniform'}"
      ]
     },
     "metadata": {},
     "execution_count": 29
    }
   ],
   "metadata": {}
  }
 ],
 "metadata": {
  "orig_nbformat": 4,
  "language_info": {
   "name": "python",
   "version": "3.9.7",
   "mimetype": "text/x-python",
   "codemirror_mode": {
    "name": "ipython",
    "version": 3
   },
   "pygments_lexer": "ipython3",
   "nbconvert_exporter": "python",
   "file_extension": ".py"
  },
  "kernelspec": {
   "name": "python3",
   "display_name": "Python 3.9.7 64-bit ('Machine-Learning-SAMI-FATMI-6_LropDT': pipenv)"
  },
  "interpreter": {
   "hash": "8eea3e6ec9773b320c1fcb02c86dea2e86f0ad992d97d5612578351ee45aefbc"
  }
 },
 "nbformat": 4,
 "nbformat_minor": 2
}
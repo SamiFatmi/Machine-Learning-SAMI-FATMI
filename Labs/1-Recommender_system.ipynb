{
 "cells": [
  {
   "cell_type": "markdown",
   "source": [
    "# 1.1 EDA "
   ],
   "metadata": {}
  },
  {
   "cell_type": "code",
   "execution_count": 75,
   "source": [
    "# imports \n",
    "import pandas as pd \n",
    "import matplotlib.pyplot as plt \n",
    "import seaborn as sns \n",
    "import numpy as np"
   ],
   "outputs": [],
   "metadata": {}
  }
 ],
 "metadata": {
  "orig_nbformat": 4,
  "language_info": {
   "name": "python"
  }
 },
 "nbformat": 4,
 "nbformat_minor": 2
}
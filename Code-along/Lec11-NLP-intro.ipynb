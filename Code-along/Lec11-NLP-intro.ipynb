{
 "cells": [
  {
   "cell_type": "markdown",
   "source": [
    "# NLP intro"
   ],
   "metadata": {}
  },
  {
   "cell_type": "code",
   "execution_count": 1,
   "source": [
    "import numpy as np"
   ],
   "outputs": [],
   "metadata": {}
  },
  {
   "cell_type": "code",
   "execution_count": 15,
   "source": [
    "review1 = \"I LOVE this book about love\"\n",
    "review2 = \"No this book was okay\"\n",
    "\n",
    "all_words = [text.lower().split() for text in [review1,review2]]\n",
    "print(all_words)\n",
    "\n",
    "#flatten the list \n",
    "all_words = [word for text in all_words for word in text]\n",
    "print(f\"Flattened all words : {all_words}\")\n",
    "\n",
    "unique_words = set(all_words)\n",
    "print(f\"Unique words : {unique_words}\")"
   ],
   "outputs": [
    {
     "output_type": "stream",
     "name": "stdout",
     "text": [
      "[['i', 'love', 'this', 'book', 'about', 'love'], ['no', 'this', 'book', 'was', 'okay']]\n",
      "Flattened all words : ['i', 'love', 'this', 'book', 'about', 'love', 'no', 'this', 'book', 'was', 'okay']\n",
      "Unique words : {'no', 'i', 'book', 'okay', 'love', 'was', 'about', 'this'}\n"
     ]
    }
   ],
   "metadata": {}
  },
  {
   "cell_type": "code",
   "execution_count": 27,
   "source": [
    "#make a dictionnary of all words \n",
    "vocabulary = {word:index for index,word in enumerate(unique_words)}\n",
    "print(vocabulary)\n",
    "\n",
    "def term_frequency_vectorizer(phrase,vocabulary):\n",
    "    term_frequency = np.zeros(len(vocabulary))\n",
    "\n",
    "    for word in phrase.lower().split():\n",
    "        index = vocabulary[word]\n",
    "        term_frequency[index]+=1\n",
    "\n",
    "    return term_frequency"
   ],
   "outputs": [
    {
     "output_type": "stream",
     "name": "stdout",
     "text": [
      "{'no': 0, 'i': 1, 'book': 2, 'okay': 3, 'love': 4, 'was': 5, 'about': 6, 'this': 7}\n"
     ]
    }
   ],
   "metadata": {}
  },
  {
   "cell_type": "code",
   "execution_count": 29,
   "source": [
    "review1_term_freq = term_frequency_vectorizer(review1,vocabulary)\n",
    "review2_term_freq = term_frequency_vectorizer(review2,vocabulary)\n",
    "\n",
    "print(review1)\n",
    "print(review1_term_freq)\n",
    "print(review2)\n",
    "print(review2_term_freq)"
   ],
   "outputs": [
    {
     "output_type": "stream",
     "name": "stdout",
     "text": [
      "I LOVE this book about love\n",
      "[0. 1. 1. 0. 2. 0. 1. 1.]\n",
      "No this book was okay\n",
      "[1. 0. 1. 1. 0. 1. 0. 1.]\n"
     ]
    }
   ],
   "metadata": {}
  },
  {
   "cell_type": "code",
   "execution_count": 32,
   "source": [
    "import pandas as pd \n",
    "\n",
    "bag_of_words = pd.DataFrame([review1_term_freq,review2_term_freq],columns=vocabulary.keys(),dtype=\"int32\")\n",
    "\n",
    "bag_of_words\n"
   ],
   "outputs": [
    {
     "output_type": "execute_result",
     "data": {
      "text/html": [
       "<div>\n",
       "<style scoped>\n",
       "    .dataframe tbody tr th:only-of-type {\n",
       "        vertical-align: middle;\n",
       "    }\n",
       "\n",
       "    .dataframe tbody tr th {\n",
       "        vertical-align: top;\n",
       "    }\n",
       "\n",
       "    .dataframe thead th {\n",
       "        text-align: right;\n",
       "    }\n",
       "</style>\n",
       "<table border=\"1\" class=\"dataframe\">\n",
       "  <thead>\n",
       "    <tr style=\"text-align: right;\">\n",
       "      <th></th>\n",
       "      <th>no</th>\n",
       "      <th>i</th>\n",
       "      <th>book</th>\n",
       "      <th>okay</th>\n",
       "      <th>love</th>\n",
       "      <th>was</th>\n",
       "      <th>about</th>\n",
       "      <th>this</th>\n",
       "    </tr>\n",
       "  </thead>\n",
       "  <tbody>\n",
       "    <tr>\n",
       "      <th>0</th>\n",
       "      <td>0</td>\n",
       "      <td>1</td>\n",
       "      <td>1</td>\n",
       "      <td>0</td>\n",
       "      <td>2</td>\n",
       "      <td>0</td>\n",
       "      <td>1</td>\n",
       "      <td>1</td>\n",
       "    </tr>\n",
       "    <tr>\n",
       "      <th>1</th>\n",
       "      <td>1</td>\n",
       "      <td>0</td>\n",
       "      <td>1</td>\n",
       "      <td>1</td>\n",
       "      <td>0</td>\n",
       "      <td>1</td>\n",
       "      <td>0</td>\n",
       "      <td>1</td>\n",
       "    </tr>\n",
       "  </tbody>\n",
       "</table>\n",
       "</div>"
      ],
      "text/plain": [
       "   no  i  book  okay  love  was  about  this\n",
       "0   0  1     1     0     2    0      1     1\n",
       "1   1  0     1     1     0    1      0     1"
      ]
     },
     "metadata": {},
     "execution_count": 32
    }
   ],
   "metadata": {}
  },
  {
   "cell_type": "markdown",
   "source": [
    "# Feature extraction with sklearn"
   ],
   "metadata": {}
  },
  {
   "cell_type": "code",
   "execution_count": 37,
   "source": [
    "from sklearn.feature_extraction.text import CountVectorizer,TfidfTransformer,TfidfVectorizer\n",
    "\n",
    "count_vectorizer = CountVectorizer()\n",
    "bag_of_words_sparse = count_vectorizer.fit_transform([review1,review2])\n",
    "bag_of_words_sparse.todense(), count_vectorizer.get_feature_names_out()"
   ],
   "outputs": [
    {
     "output_type": "execute_result",
     "data": {
      "text/plain": [
       "(matrix([[1, 1, 2, 0, 0, 1, 0],\n",
       "         [0, 1, 0, 1, 1, 1, 1]]),\n",
       " array(['about', 'book', 'love', 'no', 'okay', 'this', 'was'], dtype=object))"
      ]
     },
     "metadata": {},
     "execution_count": 37
    }
   ],
   "metadata": {}
  },
  {
   "cell_type": "code",
   "execution_count": 39,
   "source": [
    "bag_of_words = pd.DataFrame(bag_of_words_sparse.todense(), columns= count_vectorizer.get_feature_names_out())\n",
    "bag_of_words"
   ],
   "outputs": [
    {
     "output_type": "execute_result",
     "data": {
      "text/html": [
       "<div>\n",
       "<style scoped>\n",
       "    .dataframe tbody tr th:only-of-type {\n",
       "        vertical-align: middle;\n",
       "    }\n",
       "\n",
       "    .dataframe tbody tr th {\n",
       "        vertical-align: top;\n",
       "    }\n",
       "\n",
       "    .dataframe thead th {\n",
       "        text-align: right;\n",
       "    }\n",
       "</style>\n",
       "<table border=\"1\" class=\"dataframe\">\n",
       "  <thead>\n",
       "    <tr style=\"text-align: right;\">\n",
       "      <th></th>\n",
       "      <th>about</th>\n",
       "      <th>book</th>\n",
       "      <th>love</th>\n",
       "      <th>no</th>\n",
       "      <th>okay</th>\n",
       "      <th>this</th>\n",
       "      <th>was</th>\n",
       "    </tr>\n",
       "  </thead>\n",
       "  <tbody>\n",
       "    <tr>\n",
       "      <th>0</th>\n",
       "      <td>1</td>\n",
       "      <td>1</td>\n",
       "      <td>2</td>\n",
       "      <td>0</td>\n",
       "      <td>0</td>\n",
       "      <td>1</td>\n",
       "      <td>0</td>\n",
       "    </tr>\n",
       "    <tr>\n",
       "      <th>1</th>\n",
       "      <td>0</td>\n",
       "      <td>1</td>\n",
       "      <td>0</td>\n",
       "      <td>1</td>\n",
       "      <td>1</td>\n",
       "      <td>1</td>\n",
       "      <td>1</td>\n",
       "    </tr>\n",
       "  </tbody>\n",
       "</table>\n",
       "</div>"
      ],
      "text/plain": [
       "   about  book  love  no  okay  this  was\n",
       "0      1     1     2   0     0     1    0\n",
       "1      0     1     0   1     1     1    1"
      ]
     },
     "metadata": {},
     "execution_count": 39
    }
   ],
   "metadata": {}
  },
  {
   "cell_type": "markdown",
   "source": [
    "# TF-IDF"
   ],
   "metadata": {}
  },
  {
   "cell_type": "code",
   "execution_count": 40,
   "source": [
    "tfidf_transformer = TfidfTransformer()\n",
    "tfidf = tfidf_transformer.fit_transform(bag_of_words_sparse)\n",
    "\n",
    "tfidf"
   ],
   "outputs": [
    {
     "output_type": "execute_result",
     "data": {
      "text/plain": [
       "<2x7 sparse matrix of type '<class 'numpy.float64'>'\n",
       "\twith 9 stored elements in Compressed Sparse Row format>"
      ]
     },
     "metadata": {},
     "execution_count": 40
    }
   ],
   "metadata": {}
  },
  {
   "cell_type": "code",
   "execution_count": 41,
   "source": [
    "tfidf.todense()"
   ],
   "outputs": [
    {
     "output_type": "execute_result",
     "data": {
      "text/plain": [
       "matrix([[0.4078241 , 0.29017021, 0.81564821, 0.        , 0.        ,\n",
       "         0.29017021, 0.        ],\n",
       "        [0.        , 0.35520009, 0.        , 0.49922133, 0.49922133,\n",
       "         0.35520009, 0.49922133]])"
      ]
     },
     "metadata": {},
     "execution_count": 41
    }
   ],
   "metadata": {}
  },
  {
   "cell_type": "code",
   "execution_count": 44,
   "source": [
    "# create tfidf vector in one go\n",
    "tfidf_vectorizer = TfidfVectorizer()\n",
    "tfidf_vectorizer.fit_transform([review1,review2]).todense()\n"
   ],
   "outputs": [
    {
     "output_type": "execute_result",
     "data": {
      "text/plain": [
       "matrix([[0.4078241 , 0.29017021, 0.81564821, 0.        , 0.        ,\n",
       "         0.29017021, 0.        ],\n",
       "        [0.        , 0.35520009, 0.        , 0.49922133, 0.49922133,\n",
       "         0.35520009, 0.49922133]])"
      ]
     },
     "metadata": {},
     "execution_count": 44
    }
   ],
   "metadata": {}
  },
  {
   "cell_type": "code",
   "execution_count": 45,
   "source": [
    "tfidf_vectorizer.get_feature_names_out()"
   ],
   "outputs": [
    {
     "output_type": "execute_result",
     "data": {
      "text/plain": [
       "array(['about', 'book', 'love', 'no', 'okay', 'this', 'was'], dtype=object)"
      ]
     },
     "metadata": {},
     "execution_count": 45
    }
   ],
   "metadata": {}
  },
  {
   "cell_type": "code",
   "execution_count": 46,
   "source": [
    "review1"
   ],
   "outputs": [
    {
     "output_type": "execute_result",
     "data": {
      "text/plain": [
       "'I LOVE this book about love'"
      ]
     },
     "metadata": {},
     "execution_count": 46
    }
   ],
   "metadata": {}
  }
 ],
 "metadata": {
  "orig_nbformat": 4,
  "language_info": {
   "name": "python",
   "version": "3.9.7",
   "mimetype": "text/x-python",
   "codemirror_mode": {
    "name": "ipython",
    "version": 3
   },
   "pygments_lexer": "ipython3",
   "nbconvert_exporter": "python",
   "file_extension": ".py"
  },
  "kernelspec": {
   "name": "python3",
   "display_name": "Python 3.9.7 64-bit ('Machine-Learning-SAMI-FATMI-6_LropDT': pipenv)"
  },
  "interpreter": {
   "hash": "8eea3e6ec9773b320c1fcb02c86dea2e86f0ad992d97d5612578351ee45aefbc"
  }
 },
 "nbformat": 4,
 "nbformat_minor": 2
}
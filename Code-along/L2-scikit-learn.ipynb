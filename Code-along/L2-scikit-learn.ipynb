{
 "cells": [
  {
   "cell_type": "code",
   "execution_count": 1,
   "source": [
    "import pandas as pd \n",
    "import seaborn as sns \n",
    "import matplotlib.pyplot as plt \n",
    "import numpy as np\n",
    "\n",
    "df = pd.read_csv(\"../Data/Advertising.csv\", index_col=0)\n",
    "print(f\"Number of features {df.shape[1]-1}\")\n",
    "print(f\"Number of samples {df.shape[0]}\")\n",
    "\n",
    "df.head()"
   ],
   "outputs": [
    {
     "output_type": "stream",
     "name": "stdout",
     "text": [
      "Number of features 3\n",
      "Number of samples 200\n"
     ]
    },
    {
     "output_type": "execute_result",
     "data": {
      "text/html": [
       "<div>\n",
       "<style scoped>\n",
       "    .dataframe tbody tr th:only-of-type {\n",
       "        vertical-align: middle;\n",
       "    }\n",
       "\n",
       "    .dataframe tbody tr th {\n",
       "        vertical-align: top;\n",
       "    }\n",
       "\n",
       "    .dataframe thead th {\n",
       "        text-align: right;\n",
       "    }\n",
       "</style>\n",
       "<table border=\"1\" class=\"dataframe\">\n",
       "  <thead>\n",
       "    <tr style=\"text-align: right;\">\n",
       "      <th></th>\n",
       "      <th>TV</th>\n",
       "      <th>radio</th>\n",
       "      <th>newspaper</th>\n",
       "      <th>sales</th>\n",
       "    </tr>\n",
       "  </thead>\n",
       "  <tbody>\n",
       "    <tr>\n",
       "      <th>1</th>\n",
       "      <td>230.1</td>\n",
       "      <td>37.8</td>\n",
       "      <td>69.2</td>\n",
       "      <td>22.1</td>\n",
       "    </tr>\n",
       "    <tr>\n",
       "      <th>2</th>\n",
       "      <td>44.5</td>\n",
       "      <td>39.3</td>\n",
       "      <td>45.1</td>\n",
       "      <td>10.4</td>\n",
       "    </tr>\n",
       "    <tr>\n",
       "      <th>3</th>\n",
       "      <td>17.2</td>\n",
       "      <td>45.9</td>\n",
       "      <td>69.3</td>\n",
       "      <td>9.3</td>\n",
       "    </tr>\n",
       "    <tr>\n",
       "      <th>4</th>\n",
       "      <td>151.5</td>\n",
       "      <td>41.3</td>\n",
       "      <td>58.5</td>\n",
       "      <td>18.5</td>\n",
       "    </tr>\n",
       "    <tr>\n",
       "      <th>5</th>\n",
       "      <td>180.8</td>\n",
       "      <td>10.8</td>\n",
       "      <td>58.4</td>\n",
       "      <td>12.9</td>\n",
       "    </tr>\n",
       "  </tbody>\n",
       "</table>\n",
       "</div>"
      ],
      "text/plain": [
       "      TV  radio  newspaper  sales\n",
       "1  230.1   37.8       69.2   22.1\n",
       "2   44.5   39.3       45.1   10.4\n",
       "3   17.2   45.9       69.3    9.3\n",
       "4  151.5   41.3       58.5   18.5\n",
       "5  180.8   10.8       58.4   12.9"
      ]
     },
     "metadata": {},
     "execution_count": 1
    }
   ],
   "metadata": {}
  },
  {
   "cell_type": "code",
<<<<<<< Updated upstream
   "execution_count": 3,
=======
   "execution_count": 2,
>>>>>>> Stashed changes
   "source": [
    "X, y = df.drop(\"sales\", axis = 1), df[\"sales\"]\n",
    "X.shape, y.shape"
   ],
   "outputs": [
    {
     "output_type": "execute_result",
     "data": {
      "text/plain": [
       "((200, 3), (200,))"
      ]
     },
     "metadata": {},
<<<<<<< Updated upstream
     "execution_count": 3
=======
     "execution_count": 2
>>>>>>> Stashed changes
    }
   ],
   "metadata": {}
  },
  {
   "cell_type": "markdown",
   "source": [
    "# Scikit-learn \"recipe\"\n",
    "\n",
    "Steps :\n",
    "\n",
    "1. train|test split or train|validation|test split\n",
    "2. Scale dataset\n",
    "    - many algorithms require scaling, some don't\n",
    "    - which type of scaling method to use?\n",
    "    - scale training data using training data, scale test data using training data\n",
    "3. Fit algorithm to training data\n",
    "4. Predict on test data\n",
    "5. Evaluation metrics on test data"
   ],
   "metadata": {}
  },
  {
   "cell_type": "markdown",
   "source": [
    "## Train|test split\n",
    "\n"
   ],
   "metadata": {}
  },
  {
   "cell_type": "code",
<<<<<<< Updated upstream
   "execution_count": 4,
=======
   "execution_count": 3,
>>>>>>> Stashed changes
   "source": [
    "from sklearn.model_selection import train_test_split\n",
    "\n",
    "X_train, X_test, y_train, y_test = train_test_split(X, y, test_size=0.3, random_state=42)\n",
    "X_train.shape, X_test.shape, y_train.shape, y_test.shape"
   ],
   "outputs": [
    {
     "output_type": "execute_result",
     "data": {
      "text/plain": [
       "((140, 3), (60, 3), (140,), (60,))"
      ]
     },
     "metadata": {},
<<<<<<< Updated upstream
     "execution_count": 4
=======
     "execution_count": 3
>>>>>>> Stashed changes
    }
   ],
   "metadata": {}
  },
  {
   "cell_type": "markdown",
   "source": [
    "## Feature scaling\n",
    "\n",
    "Normalization (MinMaxScaling)\n",
    "\n",
    "$$X' = \\frac{X - X_{min}}{X_{max} - X_{min}}$$\n",
    "\n",
    "Compute min and max from training data and use on training and test data\n",
    "\n",
    "Feature standardization (standard score scaling)\n",
    "\n",
    "$$ X' = \\frac{X - μ }{σ}$$"
   ],
   "metadata": {}
  },
  {
   "cell_type": "code",
<<<<<<< Updated upstream
   "execution_count": 5,
=======
   "execution_count": 4,
>>>>>>> Stashed changes
   "source": [
    "from sklearn.preprocessing import MinMaxScaler\n",
    "\n",
    "# instantiate an object from the class MinMaxScaler()\n",
    "scaler = MinMaxScaler()\n",
    "print(type(scaler))\n",
    "\n",
    "# do scaler.fit on X_train - NOT on X_test\n",
    "scaler.fit(X_train)\n",
    "\n",
    "# transform both X_train and X_test\n",
    "scaled_X_train = scaler.transform(X_train)\n",
    "scaled_X_test = scaler.transform(X_test)\n",
    "\n",
    "# training data scaled to 0-1\n",
    "print(f\"Min value in X_train: {scaled_X_train.min()}\")\n",
    "print(f\"Max value in X_train: {scaled_X_train.max()}\")\n",
    "\n",
    "print(f\"Min value in X_test: {scaled_X_test.min()}\")\n",
    "print(f\"Max value in X_test: {scaled_X_test.max()}\")"
   ],
   "outputs": [
    {
     "output_type": "stream",
     "name": "stdout",
     "text": [
      "<class 'sklearn.preprocessing._data.MinMaxScaler'>\n",
      "Min value in X_train: 0.0\n",
      "Max value in X_train: 1.0\n",
      "Min value in X_test: 0.005964214711729622\n",
      "Max value in X_test: 1.1302186878727631\n"
     ]
    }
   ],
   "metadata": {}
  },
  {
   "cell_type": "markdown",
   "source": [
    "## Algorithm - linear regression"
   ],
   "metadata": {}
  },
  {
   "cell_type": "code",
<<<<<<< Updated upstream
   "execution_count": 6,
=======
   "execution_count": 5,
>>>>>>> Stashed changes
   "source": [
    "from sklearn.linear_model import LinearRegression\n",
    "\n",
    "# SVD - Singular Value Decomposition that is used for calculating pseudoinverse in OLS normal equation\n",
    "\n",
    "# instantiate an object\n",
    "model_SVD = LinearRegression() \n",
    "model_SVD.fit(scaled_X_train, y_train)\n",
    "\n",
    "# weights \n",
    "print(f\"Weights (beta_hats) {model_SVD.coef_}\")\n",
    "print(f\"Intercept {model_SVD.intercept_}\")"
   ],
   "outputs": [
    {
     "output_type": "stream",
     "name": "stdout",
     "text": [
      "Weights (beta_hats) [13.02832938  9.88465985  0.69237469]\n",
      "Intercept 2.741855324852814\n"
     ]
    }
   ],
   "metadata": {}
  },
  {
   "cell_type": "markdown",
   "source": [
    "## Stochastic Gradient Descent (SGD)"
   ],
   "metadata": {}
  },
  {
   "cell_type": "code",
<<<<<<< Updated upstream
   "execution_count": 7,
=======
   "execution_count": 6,
>>>>>>> Stashed changes
   "source": [
    "from sklearn.linear_model import SGDRegressor\n",
    "\n",
    "# note that SGD requires features to be scaled\n",
    "model_SGD = SGDRegressor(loss = \"squared_error\", learning_rate=\"invscaling\", max_iter=100000)\n",
    "model_SGD.fit(scaled_X_train, y_train)\n",
    "\n",
    "print(f\"Weights (beta_hats) {model_SGD.coef_}\")\n",
    "print(f\"Intercept {model_SGD.intercept_}\")"
   ],
   "outputs": [
    {
     "output_type": "stream",
     "name": "stdout",
     "text": [
<<<<<<< Updated upstream
      "Weights (beta_hats) [11.93230904  8.98439061  1.35572959]\n",
      "Intercept [3.60138704]\n"
=======
      "Weights (beta_hats) [11.95171404  8.99487852  1.34591565]\n",
      "Intercept [3.5858732]\n"
>>>>>>> Stashed changes
     ]
    }
   ],
   "metadata": {}
  },
  {
   "cell_type": "markdown",
   "source": [
    "## Manuel test"
   ],
   "metadata": {}
  },
  {
   "cell_type": "code",
<<<<<<< Updated upstream
   "execution_count": null,
=======
   "execution_count": 7,
>>>>>>> Stashed changes
   "source": [
    "# sanity check\n",
    "test_sample_features = scaled_X_test[0].reshape(1,-1)\n",
    "test_sample_target = y_test.values[0]\n",
    "\n",
    "# uses the weights and intercept from the fitting\n",
    "model_SGD.predict(test_sample_features)[0], model_SVD.predict(test_sample_features)[0], test_sample_target"
   ],
<<<<<<< Updated upstream
   "outputs": [],
=======
   "outputs": [
    {
     "output_type": "execute_result",
     "data": {
      "text/plain": [
       "(16.592238631573537, 16.565396297434837, 16.9)"
      ]
     },
     "metadata": {},
     "execution_count": 7
    }
   ],
>>>>>>> Stashed changes
   "metadata": {}
  },
  {
   "cell_type": "markdown",
   "source": [
    "## Evaluation"
   ],
   "metadata": {}
  },
  {
   "cell_type": "code",
   "execution_count": 8,
   "source": [
    "from sklearn.metrics import mean_absolute_error, mean_squared_error\n",
    "\n",
    "y_pred_SVD = model_SVD.predict(scaled_X_test)\n",
    "y_pred_SGD = model_SGD.predict(scaled_X_test)\n",
    "\n",
    "mae_SVD = mean_absolute_error(y_test, y_pred_SVD)\n",
    "mae_SGD = mean_absolute_error(y_test, y_pred_SGD)\n",
    "\n",
    "mse_SVD = mean_squared_error(y_test, y_pred_SVD)\n",
    "mse_SGD = mean_squared_error(y_test, y_pred_SGD)\n",
    "\n",
    "rmse_SVD = np.sqrt(mse_SVD)\n",
    "rmse_SGD = np.sqrt(mse_SGD)\n",
    "\n",
    "print(f\"SVD: MAE {mae_SVD:.2f}, MSE {mse_SVD:.2f}, RMSE {rmse_SVD:.2f}\")\n",
    "print(f\"SGD: MAE {mae_SGD:.2f}, MSE {mse_SGD:.2f}, RMSE {rmse_SGD:.2f}\")"
   ],
   "outputs": [
    {
     "output_type": "stream",
     "name": "stdout",
     "text": [
      "SVD: MAE 1.51, MSE 3.80, RMSE 1.95\n",
<<<<<<< Updated upstream
      "SGD: MAE 1.52, MSE 4.10, RMSE 2.03\n"
=======
      "SGD: MAE 1.52, MSE 4.09, RMSE 2.02\n"
>>>>>>> Stashed changes
     ]
    }
   ],
   "metadata": {}
  }
 ],
 "metadata": {
  "orig_nbformat": 4,
  "language_info": {
   "name": "python",
   "version": "3.9.7",
   "mimetype": "text/x-python",
   "codemirror_mode": {
    "name": "ipython",
    "version": 3
   },
   "pygments_lexer": "ipython3",
   "nbconvert_exporter": "python",
   "file_extension": ".py"
  },
  "kernelspec": {
   "name": "python3",
   "display_name": "Python 3.9.7 64-bit ('Machine-Learning-SAMI-FATMI-6_LropDT': pipenv)"
  },
  "interpreter": {
   "hash": "8eea3e6ec9773b320c1fcb02c86dea2e86f0ad992d97d5612578351ee45aefbc"
  }
 },
 "nbformat": 4,
 "nbformat_minor": 2
}